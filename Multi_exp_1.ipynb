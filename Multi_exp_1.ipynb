{
 "cells": [
  {
   "cell_type": "markdown",
   "metadata": {
    "id": "QDmrIUSXGi4S"
   },
   "source": [
    "## 1. Imports"
   ]
  },
  {
   "cell_type": "code",
   "execution_count": 2,
   "metadata": {
    "colab": {
     "base_uri": "https://localhost:8080/"
    },
    "executionInfo": {
     "elapsed": 8612,
     "status": "ok",
     "timestamp": 1713423753229,
     "user": {
      "displayName": "Артём Гуськов",
      "userId": "11033439813008185974"
     },
     "user_tz": -180
    },
    "id": "4AGhZWzsoWdr",
    "outputId": "06c89db4-de2e-4ff5-b731-273483c28986"
   },
   "outputs": [
    {
     "name": "stdout",
     "output_type": "stream",
     "text": [
      "WARNING:tensorflow:From c:\\Users\\Gavriil\\anaconda3\\Lib\\site-packages\\keras\\src\\losses.py:2976: The name tf.losses.sparse_softmax_cross_entropy is deprecated. Please use tf.compat.v1.losses.sparse_softmax_cross_entropy instead.\n",
      "\n"
     ]
    },
    {
     "name": "stderr",
     "output_type": "stream",
     "text": [
      "C:\\Users\\Gavriil\\AppData\\Local\\Temp\\ipykernel_13560\\4041496906.py:27: DeprecationWarning: Importing display from IPython.core.display is deprecated since IPython 7.14, please import from IPython.display\n",
      "  from IPython.core.display import display, HTML\n"
     ]
    }
   ],
   "source": [
    "import random\n",
    "import math\n",
    "import copy\n",
    "\n",
    "import pandas as pd\n",
    "import numpy as np\n",
    "import joblib\n",
    "import matplotlib.pyplot as plt\n",
    "\n",
    "from sklearn.preprocessing import MinMaxScaler\n",
    "from sklearn.metrics import r2_score, mean_absolute_error, mean_squared_error\n",
    "from sklearn.ensemble import RandomForestRegressor, GradientBoostingRegressor\n",
    "\n",
    "import os\n",
    "import tensorflow as tf\n",
    "# import tensorflow_addons as tfa\n",
    "from tensorflow import keras\n",
    "from tensorflow.keras.models import Sequential\n",
    "from tensorflow.keras.layers import Dense, Activation\n",
    "from tensorflow.keras.optimizers import SGD\n",
    "from tensorflow.keras.callbacks import EarlyStopping\n",
    "from tensorflow.keras.models import load_model\n",
    "\n",
    "import torch\n",
    "from kan import KAN\n",
    "\n",
    "from IPython.core.display import display, HTML\n",
    "#display(HTML(\"<style>.container { width:100% !important; }</style>\"))\n",
    "#%load_ext autotime"
   ]
  },
  {
   "cell_type": "code",
   "execution_count": 3,
   "metadata": {},
   "outputs": [],
   "source": [
    "#from tools import KAN_es\n",
    "from algos import vector_pred_skl, vector_pred_NN, vector_pred_KAN, multi_exp"
   ]
  },
  {
   "cell_type": "markdown",
   "metadata": {},
   "source": [
    "## 2. Data preparation"
   ]
  },
  {
   "cell_type": "markdown",
   "metadata": {},
   "source": [
    "### 2.1. Loading data"
   ]
  },
  {
   "cell_type": "code",
   "execution_count": 4,
   "metadata": {},
   "outputs": [],
   "source": [
    "'''\n",
    "initial_trn_data_fdfs = pd.read_csv(\"datasets_mtgm\\mtgm_fdfs_10k_trn.csv\")\n",
    "initial_vld_data_fdfs = pd.read_csv(\"datasets_mtgm\\mtgm_fdfs_10k_vld.csv\")\n",
    "initial_tst_data_fdfs = pd.read_csv(\"datasets_mtgm\\mtgm_fdfs_10k_tst.csv\")\n",
    "\n",
    "initial_trn_data_udfs = pd.read_csv(\"datasets_mtgm\\mtgm_udfs_10k_trn.csv\")\n",
    "initial_vld_data_udfs = pd.read_csv(\"datasets_mtgm\\mtgm_udfs_10k_vld.csv\")\n",
    "initial_tst_data_udfs = pd.read_csv(\"datasets_mtgm\\mtgm_udfs_10k_tst.csv\")\n",
    "\n",
    "initial_trn_data_udus = pd.read_csv(\"datasets_mtgm\\mtgm_udus_10k_trn.csv\")\n",
    "initial_vld_data_udus = pd.read_csv(\"datasets_mtgm\\mtgm_udus_10k_vld.csv\")\n",
    "initial_tst_data_udus = pd.read_csv(\"datasets_mtgm\\mtgm_udus_10k_tst.csv\")\n",
    "'''\n",
    "# !Some troubles with *.csv naming!\n",
    "\n",
    "initial_trn_data_fdfs = pd.read_csv(\"datasets_mtgm\\mtgm_fdfs_10k_trn.csv\")\n",
    "initial_vld_data_fdfs = pd.read_csv(\"datasets_mtgm\\mtgm_fdfs_10k_tst.csv\")\n",
    "initial_tst_data_fdfs = pd.read_csv(\"datasets_mtgm\\mtgm_fdfs_10k_pro.csv\")\n",
    "\n",
    "initial_trn_data_udfs = pd.read_csv(\"datasets_mtgm\\mtgm_udfs_10k_trn.csv\")\n",
    "initial_vld_data_udfs = pd.read_csv(\"datasets_mtgm\\mtgm_udfs_10k_tst.csv\")\n",
    "initial_tst_data_udfs = pd.read_csv(\"datasets_mtgm\\mtgm_udfs_10k_pro.csv\")\n",
    "\n",
    "initial_trn_data_udus = pd.read_csv(\"datasets_mtgm\\mtgm_udus_10k_trn.csv\")\n",
    "initial_vld_data_udus = pd.read_csv(\"datasets_mtgm\\mtgm_udus_10k_tst.csv\")\n",
    "initial_tst_data_udus = pd.read_csv(\"datasets_mtgm\\mtgm_udus_10k_pro.csv\")"
   ]
  },
  {
   "cell_type": "code",
   "execution_count": 5,
   "metadata": {},
   "outputs": [],
   "source": [
    "data_col_names = initial_trn_data_udus.columns"
   ]
  },
  {
   "cell_type": "markdown",
   "metadata": {},
   "source": [
    "### 2.2. Scaling data"
   ]
  },
  {
   "cell_type": "code",
   "execution_count": 6,
   "metadata": {},
   "outputs": [
    {
     "data": {
      "text/html": [
       "<style>#sk-container-id-1 {\n",
       "  /* Definition of color scheme common for light and dark mode */\n",
       "  --sklearn-color-text: black;\n",
       "  --sklearn-color-line: gray;\n",
       "  /* Definition of color scheme for unfitted estimators */\n",
       "  --sklearn-color-unfitted-level-0: #fff5e6;\n",
       "  --sklearn-color-unfitted-level-1: #f6e4d2;\n",
       "  --sklearn-color-unfitted-level-2: #ffe0b3;\n",
       "  --sklearn-color-unfitted-level-3: chocolate;\n",
       "  /* Definition of color scheme for fitted estimators */\n",
       "  --sklearn-color-fitted-level-0: #f0f8ff;\n",
       "  --sklearn-color-fitted-level-1: #d4ebff;\n",
       "  --sklearn-color-fitted-level-2: #b3dbfd;\n",
       "  --sklearn-color-fitted-level-3: cornflowerblue;\n",
       "\n",
       "  /* Specific color for light theme */\n",
       "  --sklearn-color-text-on-default-background: var(--sg-text-color, var(--theme-code-foreground, var(--jp-content-font-color1, black)));\n",
       "  --sklearn-color-background: var(--sg-background-color, var(--theme-background, var(--jp-layout-color0, white)));\n",
       "  --sklearn-color-border-box: var(--sg-text-color, var(--theme-code-foreground, var(--jp-content-font-color1, black)));\n",
       "  --sklearn-color-icon: #696969;\n",
       "\n",
       "  @media (prefers-color-scheme: dark) {\n",
       "    /* Redefinition of color scheme for dark theme */\n",
       "    --sklearn-color-text-on-default-background: var(--sg-text-color, var(--theme-code-foreground, var(--jp-content-font-color1, white)));\n",
       "    --sklearn-color-background: var(--sg-background-color, var(--theme-background, var(--jp-layout-color0, #111)));\n",
       "    --sklearn-color-border-box: var(--sg-text-color, var(--theme-code-foreground, var(--jp-content-font-color1, white)));\n",
       "    --sklearn-color-icon: #878787;\n",
       "  }\n",
       "}\n",
       "\n",
       "#sk-container-id-1 {\n",
       "  color: var(--sklearn-color-text);\n",
       "}\n",
       "\n",
       "#sk-container-id-1 pre {\n",
       "  padding: 0;\n",
       "}\n",
       "\n",
       "#sk-container-id-1 input.sk-hidden--visually {\n",
       "  border: 0;\n",
       "  clip: rect(1px 1px 1px 1px);\n",
       "  clip: rect(1px, 1px, 1px, 1px);\n",
       "  height: 1px;\n",
       "  margin: -1px;\n",
       "  overflow: hidden;\n",
       "  padding: 0;\n",
       "  position: absolute;\n",
       "  width: 1px;\n",
       "}\n",
       "\n",
       "#sk-container-id-1 div.sk-dashed-wrapped {\n",
       "  border: 1px dashed var(--sklearn-color-line);\n",
       "  margin: 0 0.4em 0.5em 0.4em;\n",
       "  box-sizing: border-box;\n",
       "  padding-bottom: 0.4em;\n",
       "  background-color: var(--sklearn-color-background);\n",
       "}\n",
       "\n",
       "#sk-container-id-1 div.sk-container {\n",
       "  /* jupyter's `normalize.less` sets `[hidden] { display: none; }`\n",
       "     but bootstrap.min.css set `[hidden] { display: none !important; }`\n",
       "     so we also need the `!important` here to be able to override the\n",
       "     default hidden behavior on the sphinx rendered scikit-learn.org.\n",
       "     See: https://github.com/scikit-learn/scikit-learn/issues/21755 */\n",
       "  display: inline-block !important;\n",
       "  position: relative;\n",
       "}\n",
       "\n",
       "#sk-container-id-1 div.sk-text-repr-fallback {\n",
       "  display: none;\n",
       "}\n",
       "\n",
       "div.sk-parallel-item,\n",
       "div.sk-serial,\n",
       "div.sk-item {\n",
       "  /* draw centered vertical line to link estimators */\n",
       "  background-image: linear-gradient(var(--sklearn-color-text-on-default-background), var(--sklearn-color-text-on-default-background));\n",
       "  background-size: 2px 100%;\n",
       "  background-repeat: no-repeat;\n",
       "  background-position: center center;\n",
       "}\n",
       "\n",
       "/* Parallel-specific style estimator block */\n",
       "\n",
       "#sk-container-id-1 div.sk-parallel-item::after {\n",
       "  content: \"\";\n",
       "  width: 100%;\n",
       "  border-bottom: 2px solid var(--sklearn-color-text-on-default-background);\n",
       "  flex-grow: 1;\n",
       "}\n",
       "\n",
       "#sk-container-id-1 div.sk-parallel {\n",
       "  display: flex;\n",
       "  align-items: stretch;\n",
       "  justify-content: center;\n",
       "  background-color: var(--sklearn-color-background);\n",
       "  position: relative;\n",
       "}\n",
       "\n",
       "#sk-container-id-1 div.sk-parallel-item {\n",
       "  display: flex;\n",
       "  flex-direction: column;\n",
       "}\n",
       "\n",
       "#sk-container-id-1 div.sk-parallel-item:first-child::after {\n",
       "  align-self: flex-end;\n",
       "  width: 50%;\n",
       "}\n",
       "\n",
       "#sk-container-id-1 div.sk-parallel-item:last-child::after {\n",
       "  align-self: flex-start;\n",
       "  width: 50%;\n",
       "}\n",
       "\n",
       "#sk-container-id-1 div.sk-parallel-item:only-child::after {\n",
       "  width: 0;\n",
       "}\n",
       "\n",
       "/* Serial-specific style estimator block */\n",
       "\n",
       "#sk-container-id-1 div.sk-serial {\n",
       "  display: flex;\n",
       "  flex-direction: column;\n",
       "  align-items: center;\n",
       "  background-color: var(--sklearn-color-background);\n",
       "  padding-right: 1em;\n",
       "  padding-left: 1em;\n",
       "}\n",
       "\n",
       "\n",
       "/* Toggleable style: style used for estimator/Pipeline/ColumnTransformer box that is\n",
       "clickable and can be expanded/collapsed.\n",
       "- Pipeline and ColumnTransformer use this feature and define the default style\n",
       "- Estimators will overwrite some part of the style using the `sk-estimator` class\n",
       "*/\n",
       "\n",
       "/* Pipeline and ColumnTransformer style (default) */\n",
       "\n",
       "#sk-container-id-1 div.sk-toggleable {\n",
       "  /* Default theme specific background. It is overwritten whether we have a\n",
       "  specific estimator or a Pipeline/ColumnTransformer */\n",
       "  background-color: var(--sklearn-color-background);\n",
       "}\n",
       "\n",
       "/* Toggleable label */\n",
       "#sk-container-id-1 label.sk-toggleable__label {\n",
       "  cursor: pointer;\n",
       "  display: block;\n",
       "  width: 100%;\n",
       "  margin-bottom: 0;\n",
       "  padding: 0.5em;\n",
       "  box-sizing: border-box;\n",
       "  text-align: center;\n",
       "}\n",
       "\n",
       "#sk-container-id-1 label.sk-toggleable__label-arrow:before {\n",
       "  /* Arrow on the left of the label */\n",
       "  content: \"▸\";\n",
       "  float: left;\n",
       "  margin-right: 0.25em;\n",
       "  color: var(--sklearn-color-icon);\n",
       "}\n",
       "\n",
       "#sk-container-id-1 label.sk-toggleable__label-arrow:hover:before {\n",
       "  color: var(--sklearn-color-text);\n",
       "}\n",
       "\n",
       "/* Toggleable content - dropdown */\n",
       "\n",
       "#sk-container-id-1 div.sk-toggleable__content {\n",
       "  max-height: 0;\n",
       "  max-width: 0;\n",
       "  overflow: hidden;\n",
       "  text-align: left;\n",
       "  /* unfitted */\n",
       "  background-color: var(--sklearn-color-unfitted-level-0);\n",
       "}\n",
       "\n",
       "#sk-container-id-1 div.sk-toggleable__content.fitted {\n",
       "  /* fitted */\n",
       "  background-color: var(--sklearn-color-fitted-level-0);\n",
       "}\n",
       "\n",
       "#sk-container-id-1 div.sk-toggleable__content pre {\n",
       "  margin: 0.2em;\n",
       "  border-radius: 0.25em;\n",
       "  color: var(--sklearn-color-text);\n",
       "  /* unfitted */\n",
       "  background-color: var(--sklearn-color-unfitted-level-0);\n",
       "}\n",
       "\n",
       "#sk-container-id-1 div.sk-toggleable__content.fitted pre {\n",
       "  /* unfitted */\n",
       "  background-color: var(--sklearn-color-fitted-level-0);\n",
       "}\n",
       "\n",
       "#sk-container-id-1 input.sk-toggleable__control:checked~div.sk-toggleable__content {\n",
       "  /* Expand drop-down */\n",
       "  max-height: 200px;\n",
       "  max-width: 100%;\n",
       "  overflow: auto;\n",
       "}\n",
       "\n",
       "#sk-container-id-1 input.sk-toggleable__control:checked~label.sk-toggleable__label-arrow:before {\n",
       "  content: \"▾\";\n",
       "}\n",
       "\n",
       "/* Pipeline/ColumnTransformer-specific style */\n",
       "\n",
       "#sk-container-id-1 div.sk-label input.sk-toggleable__control:checked~label.sk-toggleable__label {\n",
       "  color: var(--sklearn-color-text);\n",
       "  background-color: var(--sklearn-color-unfitted-level-2);\n",
       "}\n",
       "\n",
       "#sk-container-id-1 div.sk-label.fitted input.sk-toggleable__control:checked~label.sk-toggleable__label {\n",
       "  background-color: var(--sklearn-color-fitted-level-2);\n",
       "}\n",
       "\n",
       "/* Estimator-specific style */\n",
       "\n",
       "/* Colorize estimator box */\n",
       "#sk-container-id-1 div.sk-estimator input.sk-toggleable__control:checked~label.sk-toggleable__label {\n",
       "  /* unfitted */\n",
       "  background-color: var(--sklearn-color-unfitted-level-2);\n",
       "}\n",
       "\n",
       "#sk-container-id-1 div.sk-estimator.fitted input.sk-toggleable__control:checked~label.sk-toggleable__label {\n",
       "  /* fitted */\n",
       "  background-color: var(--sklearn-color-fitted-level-2);\n",
       "}\n",
       "\n",
       "#sk-container-id-1 div.sk-label label.sk-toggleable__label,\n",
       "#sk-container-id-1 div.sk-label label {\n",
       "  /* The background is the default theme color */\n",
       "  color: var(--sklearn-color-text-on-default-background);\n",
       "}\n",
       "\n",
       "/* On hover, darken the color of the background */\n",
       "#sk-container-id-1 div.sk-label:hover label.sk-toggleable__label {\n",
       "  color: var(--sklearn-color-text);\n",
       "  background-color: var(--sklearn-color-unfitted-level-2);\n",
       "}\n",
       "\n",
       "/* Label box, darken color on hover, fitted */\n",
       "#sk-container-id-1 div.sk-label.fitted:hover label.sk-toggleable__label.fitted {\n",
       "  color: var(--sklearn-color-text);\n",
       "  background-color: var(--sklearn-color-fitted-level-2);\n",
       "}\n",
       "\n",
       "/* Estimator label */\n",
       "\n",
       "#sk-container-id-1 div.sk-label label {\n",
       "  font-family: monospace;\n",
       "  font-weight: bold;\n",
       "  display: inline-block;\n",
       "  line-height: 1.2em;\n",
       "}\n",
       "\n",
       "#sk-container-id-1 div.sk-label-container {\n",
       "  text-align: center;\n",
       "}\n",
       "\n",
       "/* Estimator-specific */\n",
       "#sk-container-id-1 div.sk-estimator {\n",
       "  font-family: monospace;\n",
       "  border: 1px dotted var(--sklearn-color-border-box);\n",
       "  border-radius: 0.25em;\n",
       "  box-sizing: border-box;\n",
       "  margin-bottom: 0.5em;\n",
       "  /* unfitted */\n",
       "  background-color: var(--sklearn-color-unfitted-level-0);\n",
       "}\n",
       "\n",
       "#sk-container-id-1 div.sk-estimator.fitted {\n",
       "  /* fitted */\n",
       "  background-color: var(--sklearn-color-fitted-level-0);\n",
       "}\n",
       "\n",
       "/* on hover */\n",
       "#sk-container-id-1 div.sk-estimator:hover {\n",
       "  /* unfitted */\n",
       "  background-color: var(--sklearn-color-unfitted-level-2);\n",
       "}\n",
       "\n",
       "#sk-container-id-1 div.sk-estimator.fitted:hover {\n",
       "  /* fitted */\n",
       "  background-color: var(--sklearn-color-fitted-level-2);\n",
       "}\n",
       "\n",
       "/* Specification for estimator info (e.g. \"i\" and \"?\") */\n",
       "\n",
       "/* Common style for \"i\" and \"?\" */\n",
       "\n",
       ".sk-estimator-doc-link,\n",
       "a:link.sk-estimator-doc-link,\n",
       "a:visited.sk-estimator-doc-link {\n",
       "  float: right;\n",
       "  font-size: smaller;\n",
       "  line-height: 1em;\n",
       "  font-family: monospace;\n",
       "  background-color: var(--sklearn-color-background);\n",
       "  border-radius: 1em;\n",
       "  height: 1em;\n",
       "  width: 1em;\n",
       "  text-decoration: none !important;\n",
       "  margin-left: 1ex;\n",
       "  /* unfitted */\n",
       "  border: var(--sklearn-color-unfitted-level-1) 1pt solid;\n",
       "  color: var(--sklearn-color-unfitted-level-1);\n",
       "}\n",
       "\n",
       ".sk-estimator-doc-link.fitted,\n",
       "a:link.sk-estimator-doc-link.fitted,\n",
       "a:visited.sk-estimator-doc-link.fitted {\n",
       "  /* fitted */\n",
       "  border: var(--sklearn-color-fitted-level-1) 1pt solid;\n",
       "  color: var(--sklearn-color-fitted-level-1);\n",
       "}\n",
       "\n",
       "/* On hover */\n",
       "div.sk-estimator:hover .sk-estimator-doc-link:hover,\n",
       ".sk-estimator-doc-link:hover,\n",
       "div.sk-label-container:hover .sk-estimator-doc-link:hover,\n",
       ".sk-estimator-doc-link:hover {\n",
       "  /* unfitted */\n",
       "  background-color: var(--sklearn-color-unfitted-level-3);\n",
       "  color: var(--sklearn-color-background);\n",
       "  text-decoration: none;\n",
       "}\n",
       "\n",
       "div.sk-estimator.fitted:hover .sk-estimator-doc-link.fitted:hover,\n",
       ".sk-estimator-doc-link.fitted:hover,\n",
       "div.sk-label-container:hover .sk-estimator-doc-link.fitted:hover,\n",
       ".sk-estimator-doc-link.fitted:hover {\n",
       "  /* fitted */\n",
       "  background-color: var(--sklearn-color-fitted-level-3);\n",
       "  color: var(--sklearn-color-background);\n",
       "  text-decoration: none;\n",
       "}\n",
       "\n",
       "/* Span, style for the box shown on hovering the info icon */\n",
       ".sk-estimator-doc-link span {\n",
       "  display: none;\n",
       "  z-index: 9999;\n",
       "  position: relative;\n",
       "  font-weight: normal;\n",
       "  right: .2ex;\n",
       "  padding: .5ex;\n",
       "  margin: .5ex;\n",
       "  width: min-content;\n",
       "  min-width: 20ex;\n",
       "  max-width: 50ex;\n",
       "  color: var(--sklearn-color-text);\n",
       "  box-shadow: 2pt 2pt 4pt #999;\n",
       "  /* unfitted */\n",
       "  background: var(--sklearn-color-unfitted-level-0);\n",
       "  border: .5pt solid var(--sklearn-color-unfitted-level-3);\n",
       "}\n",
       "\n",
       ".sk-estimator-doc-link.fitted span {\n",
       "  /* fitted */\n",
       "  background: var(--sklearn-color-fitted-level-0);\n",
       "  border: var(--sklearn-color-fitted-level-3);\n",
       "}\n",
       "\n",
       ".sk-estimator-doc-link:hover span {\n",
       "  display: block;\n",
       "}\n",
       "\n",
       "/* \"?\"-specific style due to the `<a>` HTML tag */\n",
       "\n",
       "#sk-container-id-1 a.estimator_doc_link {\n",
       "  float: right;\n",
       "  font-size: 1rem;\n",
       "  line-height: 1em;\n",
       "  font-family: monospace;\n",
       "  background-color: var(--sklearn-color-background);\n",
       "  border-radius: 1rem;\n",
       "  height: 1rem;\n",
       "  width: 1rem;\n",
       "  text-decoration: none;\n",
       "  /* unfitted */\n",
       "  color: var(--sklearn-color-unfitted-level-1);\n",
       "  border: var(--sklearn-color-unfitted-level-1) 1pt solid;\n",
       "}\n",
       "\n",
       "#sk-container-id-1 a.estimator_doc_link.fitted {\n",
       "  /* fitted */\n",
       "  border: var(--sklearn-color-fitted-level-1) 1pt solid;\n",
       "  color: var(--sklearn-color-fitted-level-1);\n",
       "}\n",
       "\n",
       "/* On hover */\n",
       "#sk-container-id-1 a.estimator_doc_link:hover {\n",
       "  /* unfitted */\n",
       "  background-color: var(--sklearn-color-unfitted-level-3);\n",
       "  color: var(--sklearn-color-background);\n",
       "  text-decoration: none;\n",
       "}\n",
       "\n",
       "#sk-container-id-1 a.estimator_doc_link.fitted:hover {\n",
       "  /* fitted */\n",
       "  background-color: var(--sklearn-color-fitted-level-3);\n",
       "}\n",
       "</style><div id=\"sk-container-id-1\" class=\"sk-top-container\"><div class=\"sk-text-repr-fallback\"><pre>MinMaxScaler()</pre><b>In a Jupyter environment, please rerun this cell to show the HTML representation or trust the notebook. <br />On GitHub, the HTML representation is unable to render, please try loading this page with nbviewer.org.</b></div><div class=\"sk-container\" hidden><div class=\"sk-item\"><div class=\"sk-estimator fitted sk-toggleable\"><input class=\"sk-toggleable__control sk-hidden--visually\" id=\"sk-estimator-id-1\" type=\"checkbox\" checked><label for=\"sk-estimator-id-1\" class=\"sk-toggleable__label fitted sk-toggleable__label-arrow fitted\">&nbsp;&nbsp;MinMaxScaler<a class=\"sk-estimator-doc-link fitted\" rel=\"noreferrer\" target=\"_blank\" href=\"https://scikit-learn.org/1.5/modules/generated/sklearn.preprocessing.MinMaxScaler.html\">?<span>Documentation for MinMaxScaler</span></a><span class=\"sk-estimator-doc-link fitted\">i<span>Fitted</span></span></label><div class=\"sk-toggleable__content fitted\"><pre>MinMaxScaler()</pre></div> </div></div></div></div>"
      ],
      "text/plain": [
       "MinMaxScaler()"
      ]
     },
     "execution_count": 6,
     "metadata": {},
     "output_type": "execute_result"
    }
   ],
   "source": [
    "mm_scaler = MinMaxScaler()\n",
    "mm_scaler.fit(pd.concat([initial_trn_data_fdfs,\n",
    "                         initial_trn_data_udfs, \n",
    "                         initial_trn_data_udus],\n",
    "                        axis=0, sort=False, ignore_index=True))"
   ]
  },
  {
   "cell_type": "code",
   "execution_count": 6,
   "metadata": {},
   "outputs": [],
   "source": [
    "'''\n",
    "scaled_trn_data_fdfs = pd.DataFrame(mm_scaler.transform(initial_trn_data_fdfs),columns=data_col_names) \n",
    "scaled_vld_data_fdfs = pd.DataFrame(mm_scaler.transform(initial_vld_data_fdfs),columns=data_col_names)\n",
    "scaled_tst_data_fdfs = pd.DataFrame(mm_scaler.transform(initial_tst_data_fdfs),columns=data_col_names)\n",
    "\n",
    "scaled_trn_data_udfs = pd.DataFrame(mm_scaler.transform(initial_trn_data_udfs),columns=data_col_names)\n",
    "scaled_vld_data_udfs = pd.DataFrame(mm_scaler.transform(initial_vld_data_udfs),columns=data_col_names)\n",
    "scaled_tst_data_udfs = pd.DataFrame(mm_scaler.transform(initial_tst_data_udfs),columns=data_col_names)\n",
    "\n",
    "scaled_trn_data_udus = pd.DataFrame(mm_scaler.transform(initial_trn_data_udus),columns=data_col_names)\n",
    "scaled_vld_data_udus = pd.DataFrame(mm_scaler.transform(initial_vld_data_udus),columns=data_col_names)\n",
    "scaled_tst_data_udus = pd.DataFrame(mm_scaler.transform(initial_tst_data_udus),columns=data_col_names)\n",
    "'''\n",
    "trn = pd.DataFrame(mm_scaler.transform(initial_trn_data_fdfs),columns=data_col_names) \n",
    "vld = pd.DataFrame(mm_scaler.transform(initial_vld_data_fdfs),columns=data_col_names)\n",
    "tst = pd.DataFrame(mm_scaler.transform(initial_tst_data_fdfs),columns=data_col_names)\n"
   ]
  },
  {
   "cell_type": "markdown",
   "metadata": {},
   "source": [
    "# 3. Experiment №1\n",
    "* Input data: G, M, T, GMT.\n",
    "* Models: Group Method Data Holding, Random Forest, Gradient Boosting, Multi-Layer Perceptron, Kolmogorov-Arnold Network.\n",
    "* Single mode predicting: seperate model per each predicting depth."
   ]
  },
  {
   "cell_type": "code",
   "execution_count": null,
   "metadata": {},
   "outputs": [],
   "source": [
    "NUM_ITER = 3"
   ]
  },
  {
   "cell_type": "code",
   "execution_count": 7,
   "metadata": {},
   "outputs": [],
   "source": [
    "from sklearn.base import BaseEstimator\n",
    "from gmdh import Ria\n",
    "\n",
    "def skl_regr_wrap(class_model, default_init_kwargs = {}, default_fit_kwargs = {}):\n",
    "    '''\n",
    "    Wrapper for regressor classes with fit, predict methods. Makes regressor compatable with skl cross-validation.\n",
    "    Returns new class.\n",
    "    '''\n",
    "    class MyEstimator(BaseEstimator):\n",
    "        '''\n",
    "        Provides Sci-kit learn compatable Regressor class from class model with fit, predict functions \n",
    "        '''\n",
    "        def __init__(self, *, init_kwargs=default_init_kwargs, fit_kwargs=default_fit_kwargs, random_state=1):\n",
    "            self.init_kwargs = init_kwargs\n",
    "            self.fit_kwargs = fit_kwargs\n",
    "            self.class_model = class_model\n",
    "\n",
    "        def fit(self, X, y):\n",
    "            self.model = class_model(**self.init_kwargs)\n",
    "            self.model.fit(X=np.array(X), y=np.array(y), **self.fit_kwargs)\n",
    "            self.is_fitted_ = True\n",
    "            return self\n",
    "\n",
    "        def predict(self, X):\n",
    "            return self.model.predict(X=X)\n",
    "        \n",
    "        \n",
    "    return MyEstimator"
   ]
  },
  {
   "cell_type": "code",
   "execution_count": 8,
   "metadata": {},
   "outputs": [],
   "source": [
    "l_algos_names=['G_GMDH', 'M_GMDH', 'T_GMDH', 'GMT_GMDH',\n",
    "               'G_RF', 'M_RF', 'T_RF', 'GMT_RF',\n",
    "               'G_GB', 'M_GB', 'T_GB', 'GMT_GB',\n",
    "               'G_MLP', 'M_MLP', 'T_MLP', 'GMT_MLP',\n",
    "               'G_KAN', 'M_KAN', 'T_KAN', 'GMT_KAN']\n",
    "\n",
    "l_algos=[vector_pred_skl, vector_pred_skl, vector_pred_skl, vector_pred_skl, \n",
    "         vector_pred_skl, vector_pred_skl, vector_pred_skl, vector_pred_skl, \n",
    "         vector_pred_skl, vector_pred_skl, vector_pred_skl, vector_pred_skl, \n",
    "         vector_pred_NN, vector_pred_NN, vector_pred_NN, vector_pred_NN,\n",
    "         vector_pred_KAN, vector_pred_KAN, vector_pred_KAN, vector_pred_KAN]\n",
    "\n",
    "Data = (trn, vld, tst)\n",
    "\n",
    "mult_data = [Data for i in range(4*5)]\n",
    "\n",
    "l_geophysical_method = ['G', 'M', 'T', 'GMT',\n",
    "                        'G', 'M', 'T', 'GMT',\n",
    "                        'G', 'M', 'T', 'GMT',\n",
    "                        'G', 'M', 'T', 'GMT',\n",
    "                        'G', 'M', 'T', 'GMT']\n",
    "\n",
    "output_parameter = ['H1_8', 'H2_8', 'H3_8']\n",
    "l_output_parameter = [output_parameter for i in range(4*5)]\n",
    "\n",
    "l_kwargs=[{'class_model': skl_regr_wrap(class_model=Ria), 'model_kwargs': dict(fit_kwargs = dict(k_best=15, p_average=1))}, \n",
    "          {'class_model': skl_regr_wrap(class_model=Ria), 'model_kwargs': dict(fit_kwargs = dict(k_best=15, p_average=1))}, \n",
    "          {'class_model': skl_regr_wrap(class_model=Ria), 'model_kwargs': dict(fit_kwargs = dict(k_best=15, p_average=1))},\n",
    "          {'class_model': skl_regr_wrap(class_model=Ria), 'model_kwargs': dict(fit_kwargs = dict(k_best=15, p_average=1))},\n",
    "          \n",
    "          {'class_model': RandomForestRegressor}, {'class_model': RandomForestRegressor}, {'class_model': RandomForestRegressor}, {'class_model': RandomForestRegressor}, \n",
    "          \n",
    "          {'class_model': GradientBoostingRegressor}, {'class_model': GradientBoostingRegressor}, {'class_model': GradientBoostingRegressor}, {'class_model': GradientBoostingRegressor}, \n",
    "\n",
    "          {'learning_rate': 0.1, 'momentum':0.5, 'tol':0.001, 'n_iter_no_change':500, 'max_epochs':50000, 'rel_batch_size':0.05},\n",
    "          {'learning_rate': 0.1, 'momentum':0.5, 'tol':0.001, 'n_iter_no_change':500, 'max_epochs':50000, 'rel_batch_size':0.05},\n",
    "          {'learning_rate': 0.1, 'momentum':0.5, 'tol':0.001, 'n_iter_no_change':500, 'max_epochs':50000, 'rel_batch_size':0.05},\n",
    "          {'learning_rate': 0.1, 'momentum':0.5, 'tol':0.001, 'n_iter_no_change':500, 'max_epochs':50000, 'rel_batch_size':0.05},\n",
    "          \n",
    "          {'K':3, 'hidden_neurons':1, 'learning_rate':0.1, 'tol':0.001, 'n_iter_no_change':25, 'max_epochs':500, 'lamb':0},\n",
    "          {'K':3, 'hidden_neurons':1, 'learning_rate':0.1, 'tol':0.001, 'n_iter_no_change':25, 'max_epochs':500, 'lamb':0},\n",
    "          {'K':3, 'hidden_neurons':1, 'learning_rate':0.1, 'tol':0.001, 'n_iter_no_change':25, 'max_epochs':500, 'lamb':0},\n",
    "          {'K':3, 'hidden_neurons':1, 'learning_rate':0.1, 'tol':0.001, 'n_iter_no_change':25, 'max_epochs':500, 'lamb':0},\n",
    "          ]\n",
    "\n",
    "l_metrics_names=['rmse', 'mae', 'mape', 'r2'] #['mae', 'rmse', 'r2', 'mape']\n",
    "\n",
    "num_iter=NUM_ITER"
   ]
  },
  {
   "cell_type": "code",
   "execution_count": null,
   "metadata": {},
   "outputs": [
    {
     "name": "stdout",
     "output_type": "stream",
     "text": [
      "--- Processing G_GMDH\n",
      "iter: 1\n"
     ]
    }
   ],
   "source": [
    "full_df = multi_exp(l_algos_names=l_algos_names,\n",
    "                    l_algos=l_algos,\n",
    "                    mult_data=mult_data,\n",
    "                    l_geophysical_method=l_geophysical_method,\n",
    "                    l_output_parameter=l_output_parameter,\n",
    "                    l_kwargs=l_kwargs,\n",
    "                    l_metrics_names=l_metrics_names,\n",
    "                    num_iter=num_iter)"
   ]
  },
  {
   "cell_type": "code",
   "execution_count": null,
   "metadata": {},
   "outputs": [],
   "source": [
    "full_df"
   ]
  },
  {
   "cell_type": "code",
   "execution_count": null,
   "metadata": {},
   "outputs": [],
   "source": [
    "full_df.to_excel('full_metrics_1.xlsx')\n",
    "#pd.read_excel('full_metrics.xlsx').drop('Unnamed: 0', axis=1)"
   ]
  },
  {
   "cell_type": "code",
   "execution_count": null,
   "metadata": {},
   "outputs": [],
   "source": [
    "aggr_df = full_df.groupby(['alg_name']).agg([\"mean\", \"std\"]).drop(['iter'], axis=1)\n",
    "aggr_df.to_excel('aggr_metrics_1.xlsx')\n",
    "aggr_df"
   ]
  },
  {
   "cell_type": "markdown",
   "metadata": {},
   "source": [
    "---\n",
    "\n",
    "# GMDH experiments"
   ]
  },
  {
   "cell_type": "code",
   "execution_count": 50,
   "metadata": {},
   "outputs": [],
   "source": [
    "from sklearn.base import BaseEstimator\n",
    "from gmdh import Ria\n",
    "\n",
    "def skl_regr_wrap(class_model, default_init_kwargs = {}, default_fit_kwargs = {}):\n",
    "    '''\n",
    "    Wrapper for regressor classes with fit, predict methods. Makes regressor compatable with skl cross-validation.\n",
    "    Returns new class.\n",
    "    '''\n",
    "    class MyEstimator(BaseEstimator):\n",
    "        '''\n",
    "        Provides Sci-kit learn compatable Regressor class from class model with fit, predict functions \n",
    "        '''\n",
    "        def __init__(self, *, init_kwargs=default_init_kwargs, fit_kwargs=default_fit_kwargs, random_state=1):\n",
    "            self.init_kwargs = init_kwargs\n",
    "            self.fit_kwargs = fit_kwargs\n",
    "            self.class_model = class_model\n",
    "\n",
    "        def fit(self, X, y):\n",
    "            self.model = class_model(**self.init_kwargs)\n",
    "            self.model.fit(X=np.array(X), y=np.array(y), **self.fit_kwargs)\n",
    "            self.is_fitted_ = True\n",
    "            return self\n",
    "\n",
    "        def predict(self, X):\n",
    "            return self.model.predict(X=X)\n",
    "        \n",
    "        \n",
    "    return MyEstimator"
   ]
  },
  {
   "cell_type": "code",
   "execution_count": 52,
   "metadata": {},
   "outputs": [],
   "source": [
    "l_algos_names=['G_GMDH', 'M_GMDH', 'T_GMDH']\n",
    "\n",
    "#gmdh_model = skl_regr_wrap(class_model=Ria)(fit_kwargs = dict(k_best=15, p_average=1))\n",
    "\n",
    "l_algos=[vector_pred_skl, vector_pred_skl, vector_pred_skl]\n",
    "\n",
    "Data = (trn, vld, tst)\n",
    "\n",
    "mult_data = [Data for i in range(3*1)]\n",
    "\n",
    "l_geophysical_method = ['G', 'M', 'T']\n",
    "\n",
    "output_parameter = ['H1_8', 'H2_8', 'H3_8']\n",
    "l_output_parameter = [output_parameter for i in range(3*1)]\n",
    "\n",
    "l_kwargs=[{'class_model': skl_regr_wrap(class_model=Ria), 'model_kwargs': dict(fit_kwargs = dict(k_best=15, p_average=1))}, \n",
    "          {'class_model': skl_regr_wrap(class_model=Ria), 'model_kwargs': dict(fit_kwargs = dict(k_best=15, p_average=1))}, \n",
    "          {'class_model': skl_regr_wrap(class_model=Ria), 'model_kwargs': dict(fit_kwargs = dict(k_best=15, p_average=1))}\n",
    "          ]\n",
    "\n",
    "l_metrics_names=['rmse', 'mae', 'mape', 'r2'] #['mae', 'rmse', 'r2', 'mape']\n",
    "\n",
    "num_iter=NUM_ITER"
   ]
  },
  {
   "cell_type": "code",
   "execution_count": 56,
   "metadata": {},
   "outputs": [
    {
     "name": "stdout",
     "output_type": "stream",
     "text": [
      "--- Processing G_GMDH\n",
      "iter: 1\n",
      "<class '__main__.skl_regr_wrap.<locals>.MyEstimator'> fitted with randomseed: 1\n",
      "<class '__main__.skl_regr_wrap.<locals>.MyEstimator'> fitted with randomseed: 1\n"
     ]
    },
    {
     "name": "stderr",
     "output_type": "stream",
     "text": [
      "c:\\Users\\Gavriil\\anaconda3\\Lib\\site-packages\\sklearn\\metrics\\_regression.py:492: FutureWarning: 'squared' is deprecated in version 1.4 and will be removed in 1.6. To calculate the root mean squared error, use the function'root_mean_squared_error'.\n",
      "  warnings.warn(\n"
     ]
    },
    {
     "name": "stdout",
     "output_type": "stream",
     "text": [
      "<class '__main__.skl_regr_wrap.<locals>.MyEstimator'> fitted with randomseed: 1\n",
      "iter: 2\n",
      "<class '__main__.skl_regr_wrap.<locals>.MyEstimator'> fitted with randomseed: 2\n",
      "<class '__main__.skl_regr_wrap.<locals>.MyEstimator'> fitted with randomseed: 2\n"
     ]
    },
    {
     "name": "stderr",
     "output_type": "stream",
     "text": [
      "c:\\Users\\Gavriil\\anaconda3\\Lib\\site-packages\\sklearn\\metrics\\_regression.py:492: FutureWarning: 'squared' is deprecated in version 1.4 and will be removed in 1.6. To calculate the root mean squared error, use the function'root_mean_squared_error'.\n",
      "  warnings.warn(\n"
     ]
    },
    {
     "name": "stdout",
     "output_type": "stream",
     "text": [
      "<class '__main__.skl_regr_wrap.<locals>.MyEstimator'> fitted with randomseed: 2\n",
      "iter: 3\n",
      "<class '__main__.skl_regr_wrap.<locals>.MyEstimator'> fitted with randomseed: 3\n",
      "<class '__main__.skl_regr_wrap.<locals>.MyEstimator'> fitted with randomseed: 3\n"
     ]
    },
    {
     "name": "stderr",
     "output_type": "stream",
     "text": [
      "c:\\Users\\Gavriil\\anaconda3\\Lib\\site-packages\\sklearn\\metrics\\_regression.py:492: FutureWarning: 'squared' is deprecated in version 1.4 and will be removed in 1.6. To calculate the root mean squared error, use the function'root_mean_squared_error'.\n",
      "  warnings.warn(\n"
     ]
    },
    {
     "name": "stdout",
     "output_type": "stream",
     "text": [
      "<class '__main__.skl_regr_wrap.<locals>.MyEstimator'> fitted with randomseed: 3\n",
      "iter: 4\n",
      "<class '__main__.skl_regr_wrap.<locals>.MyEstimator'> fitted with randomseed: 4\n",
      "<class '__main__.skl_regr_wrap.<locals>.MyEstimator'> fitted with randomseed: 4\n"
     ]
    },
    {
     "name": "stderr",
     "output_type": "stream",
     "text": [
      "c:\\Users\\Gavriil\\anaconda3\\Lib\\site-packages\\sklearn\\metrics\\_regression.py:492: FutureWarning: 'squared' is deprecated in version 1.4 and will be removed in 1.6. To calculate the root mean squared error, use the function'root_mean_squared_error'.\n",
      "  warnings.warn(\n"
     ]
    },
    {
     "name": "stdout",
     "output_type": "stream",
     "text": [
      "<class '__main__.skl_regr_wrap.<locals>.MyEstimator'> fitted with randomseed: 4\n",
      "iter: 5\n",
      "<class '__main__.skl_regr_wrap.<locals>.MyEstimator'> fitted with randomseed: 5\n",
      "<class '__main__.skl_regr_wrap.<locals>.MyEstimator'> fitted with randomseed: 5\n"
     ]
    },
    {
     "name": "stderr",
     "output_type": "stream",
     "text": [
      "c:\\Users\\Gavriil\\anaconda3\\Lib\\site-packages\\sklearn\\metrics\\_regression.py:492: FutureWarning: 'squared' is deprecated in version 1.4 and will be removed in 1.6. To calculate the root mean squared error, use the function'root_mean_squared_error'.\n",
      "  warnings.warn(\n"
     ]
    },
    {
     "name": "stdout",
     "output_type": "stream",
     "text": [
      "<class '__main__.skl_regr_wrap.<locals>.MyEstimator'> fitted with randomseed: 5\n",
      "iter: 6\n",
      "<class '__main__.skl_regr_wrap.<locals>.MyEstimator'> fitted with randomseed: 6\n",
      "<class '__main__.skl_regr_wrap.<locals>.MyEstimator'> fitted with randomseed: 6\n"
     ]
    },
    {
     "name": "stderr",
     "output_type": "stream",
     "text": [
      "c:\\Users\\Gavriil\\anaconda3\\Lib\\site-packages\\sklearn\\metrics\\_regression.py:492: FutureWarning: 'squared' is deprecated in version 1.4 and will be removed in 1.6. To calculate the root mean squared error, use the function'root_mean_squared_error'.\n",
      "  warnings.warn(\n"
     ]
    },
    {
     "name": "stdout",
     "output_type": "stream",
     "text": [
      "<class '__main__.skl_regr_wrap.<locals>.MyEstimator'> fitted with randomseed: 6\n",
      "iter: 7\n",
      "<class '__main__.skl_regr_wrap.<locals>.MyEstimator'> fitted with randomseed: 7\n",
      "<class '__main__.skl_regr_wrap.<locals>.MyEstimator'> fitted with randomseed: 7\n"
     ]
    },
    {
     "name": "stderr",
     "output_type": "stream",
     "text": [
      "c:\\Users\\Gavriil\\anaconda3\\Lib\\site-packages\\sklearn\\metrics\\_regression.py:492: FutureWarning: 'squared' is deprecated in version 1.4 and will be removed in 1.6. To calculate the root mean squared error, use the function'root_mean_squared_error'.\n",
      "  warnings.warn(\n"
     ]
    },
    {
     "name": "stdout",
     "output_type": "stream",
     "text": [
      "<class '__main__.skl_regr_wrap.<locals>.MyEstimator'> fitted with randomseed: 7\n",
      "iter: 8\n",
      "<class '__main__.skl_regr_wrap.<locals>.MyEstimator'> fitted with randomseed: 8\n",
      "<class '__main__.skl_regr_wrap.<locals>.MyEstimator'> fitted with randomseed: 8\n"
     ]
    },
    {
     "name": "stderr",
     "output_type": "stream",
     "text": [
      "c:\\Users\\Gavriil\\anaconda3\\Lib\\site-packages\\sklearn\\metrics\\_regression.py:492: FutureWarning: 'squared' is deprecated in version 1.4 and will be removed in 1.6. To calculate the root mean squared error, use the function'root_mean_squared_error'.\n",
      "  warnings.warn(\n"
     ]
    },
    {
     "name": "stdout",
     "output_type": "stream",
     "text": [
      "<class '__main__.skl_regr_wrap.<locals>.MyEstimator'> fitted with randomseed: 8\n",
      "iter: 9\n",
      "<class '__main__.skl_regr_wrap.<locals>.MyEstimator'> fitted with randomseed: 9\n",
      "<class '__main__.skl_regr_wrap.<locals>.MyEstimator'> fitted with randomseed: 9\n"
     ]
    },
    {
     "name": "stderr",
     "output_type": "stream",
     "text": [
      "c:\\Users\\Gavriil\\anaconda3\\Lib\\site-packages\\sklearn\\metrics\\_regression.py:492: FutureWarning: 'squared' is deprecated in version 1.4 and will be removed in 1.6. To calculate the root mean squared error, use the function'root_mean_squared_error'.\n",
      "  warnings.warn(\n"
     ]
    },
    {
     "name": "stdout",
     "output_type": "stream",
     "text": [
      "<class '__main__.skl_regr_wrap.<locals>.MyEstimator'> fitted with randomseed: 9\n",
      "iter: 10\n",
      "<class '__main__.skl_regr_wrap.<locals>.MyEstimator'> fitted with randomseed: 10\n",
      "<class '__main__.skl_regr_wrap.<locals>.MyEstimator'> fitted with randomseed: 10\n"
     ]
    },
    {
     "name": "stderr",
     "output_type": "stream",
     "text": [
      "c:\\Users\\Gavriil\\anaconda3\\Lib\\site-packages\\sklearn\\metrics\\_regression.py:492: FutureWarning: 'squared' is deprecated in version 1.4 and will be removed in 1.6. To calculate the root mean squared error, use the function'root_mean_squared_error'.\n",
      "  warnings.warn(\n"
     ]
    },
    {
     "name": "stdout",
     "output_type": "stream",
     "text": [
      "<class '__main__.skl_regr_wrap.<locals>.MyEstimator'> fitted with randomseed: 10\n",
      "iter: 11\n",
      "<class '__main__.skl_regr_wrap.<locals>.MyEstimator'> fitted with randomseed: 11\n",
      "<class '__main__.skl_regr_wrap.<locals>.MyEstimator'> fitted with randomseed: 11\n"
     ]
    },
    {
     "name": "stderr",
     "output_type": "stream",
     "text": [
      "c:\\Users\\Gavriil\\anaconda3\\Lib\\site-packages\\sklearn\\metrics\\_regression.py:492: FutureWarning: 'squared' is deprecated in version 1.4 and will be removed in 1.6. To calculate the root mean squared error, use the function'root_mean_squared_error'.\n",
      "  warnings.warn(\n"
     ]
    },
    {
     "name": "stdout",
     "output_type": "stream",
     "text": [
      "<class '__main__.skl_regr_wrap.<locals>.MyEstimator'> fitted with randomseed: 11\n",
      "iter: 12\n",
      "<class '__main__.skl_regr_wrap.<locals>.MyEstimator'> fitted with randomseed: 12\n",
      "<class '__main__.skl_regr_wrap.<locals>.MyEstimator'> fitted with randomseed: 12\n"
     ]
    },
    {
     "name": "stderr",
     "output_type": "stream",
     "text": [
      "c:\\Users\\Gavriil\\anaconda3\\Lib\\site-packages\\sklearn\\metrics\\_regression.py:492: FutureWarning: 'squared' is deprecated in version 1.4 and will be removed in 1.6. To calculate the root mean squared error, use the function'root_mean_squared_error'.\n",
      "  warnings.warn(\n"
     ]
    },
    {
     "name": "stdout",
     "output_type": "stream",
     "text": [
      "<class '__main__.skl_regr_wrap.<locals>.MyEstimator'> fitted with randomseed: 12\n",
      "iter: 13\n",
      "<class '__main__.skl_regr_wrap.<locals>.MyEstimator'> fitted with randomseed: 13\n",
      "<class '__main__.skl_regr_wrap.<locals>.MyEstimator'> fitted with randomseed: 13\n"
     ]
    },
    {
     "name": "stderr",
     "output_type": "stream",
     "text": [
      "c:\\Users\\Gavriil\\anaconda3\\Lib\\site-packages\\sklearn\\metrics\\_regression.py:492: FutureWarning: 'squared' is deprecated in version 1.4 and will be removed in 1.6. To calculate the root mean squared error, use the function'root_mean_squared_error'.\n",
      "  warnings.warn(\n"
     ]
    },
    {
     "name": "stdout",
     "output_type": "stream",
     "text": [
      "<class '__main__.skl_regr_wrap.<locals>.MyEstimator'> fitted with randomseed: 13\n",
      "iter: 14\n",
      "<class '__main__.skl_regr_wrap.<locals>.MyEstimator'> fitted with randomseed: 14\n",
      "<class '__main__.skl_regr_wrap.<locals>.MyEstimator'> fitted with randomseed: 14\n"
     ]
    },
    {
     "name": "stderr",
     "output_type": "stream",
     "text": [
      "c:\\Users\\Gavriil\\anaconda3\\Lib\\site-packages\\sklearn\\metrics\\_regression.py:492: FutureWarning: 'squared' is deprecated in version 1.4 and will be removed in 1.6. To calculate the root mean squared error, use the function'root_mean_squared_error'.\n",
      "  warnings.warn(\n"
     ]
    },
    {
     "name": "stdout",
     "output_type": "stream",
     "text": [
      "<class '__main__.skl_regr_wrap.<locals>.MyEstimator'> fitted with randomseed: 14\n",
      "iter: 15\n",
      "<class '__main__.skl_regr_wrap.<locals>.MyEstimator'> fitted with randomseed: 15\n",
      "<class '__main__.skl_regr_wrap.<locals>.MyEstimator'> fitted with randomseed: 15\n"
     ]
    },
    {
     "name": "stderr",
     "output_type": "stream",
     "text": [
      "c:\\Users\\Gavriil\\anaconda3\\Lib\\site-packages\\sklearn\\metrics\\_regression.py:492: FutureWarning: 'squared' is deprecated in version 1.4 and will be removed in 1.6. To calculate the root mean squared error, use the function'root_mean_squared_error'.\n",
      "  warnings.warn(\n"
     ]
    },
    {
     "name": "stdout",
     "output_type": "stream",
     "text": [
      "<class '__main__.skl_regr_wrap.<locals>.MyEstimator'> fitted with randomseed: 15\n",
      "iter: 16\n",
      "<class '__main__.skl_regr_wrap.<locals>.MyEstimator'> fitted with randomseed: 16\n",
      "<class '__main__.skl_regr_wrap.<locals>.MyEstimator'> fitted with randomseed: 16\n"
     ]
    },
    {
     "name": "stderr",
     "output_type": "stream",
     "text": [
      "c:\\Users\\Gavriil\\anaconda3\\Lib\\site-packages\\sklearn\\metrics\\_regression.py:492: FutureWarning: 'squared' is deprecated in version 1.4 and will be removed in 1.6. To calculate the root mean squared error, use the function'root_mean_squared_error'.\n",
      "  warnings.warn(\n"
     ]
    },
    {
     "name": "stdout",
     "output_type": "stream",
     "text": [
      "<class '__main__.skl_regr_wrap.<locals>.MyEstimator'> fitted with randomseed: 16\n",
      "iter: 17\n",
      "<class '__main__.skl_regr_wrap.<locals>.MyEstimator'> fitted with randomseed: 17\n",
      "<class '__main__.skl_regr_wrap.<locals>.MyEstimator'> fitted with randomseed: 17\n"
     ]
    },
    {
     "name": "stderr",
     "output_type": "stream",
     "text": [
      "c:\\Users\\Gavriil\\anaconda3\\Lib\\site-packages\\sklearn\\metrics\\_regression.py:492: FutureWarning: 'squared' is deprecated in version 1.4 and will be removed in 1.6. To calculate the root mean squared error, use the function'root_mean_squared_error'.\n",
      "  warnings.warn(\n"
     ]
    },
    {
     "name": "stdout",
     "output_type": "stream",
     "text": [
      "<class '__main__.skl_regr_wrap.<locals>.MyEstimator'> fitted with randomseed: 17\n",
      "iter: 18\n",
      "<class '__main__.skl_regr_wrap.<locals>.MyEstimator'> fitted with randomseed: 18\n",
      "<class '__main__.skl_regr_wrap.<locals>.MyEstimator'> fitted with randomseed: 18\n"
     ]
    },
    {
     "name": "stderr",
     "output_type": "stream",
     "text": [
      "c:\\Users\\Gavriil\\anaconda3\\Lib\\site-packages\\sklearn\\metrics\\_regression.py:492: FutureWarning: 'squared' is deprecated in version 1.4 and will be removed in 1.6. To calculate the root mean squared error, use the function'root_mean_squared_error'.\n",
      "  warnings.warn(\n"
     ]
    },
    {
     "name": "stdout",
     "output_type": "stream",
     "text": [
      "<class '__main__.skl_regr_wrap.<locals>.MyEstimator'> fitted with randomseed: 18\n",
      "iter: 19\n",
      "<class '__main__.skl_regr_wrap.<locals>.MyEstimator'> fitted with randomseed: 19\n",
      "<class '__main__.skl_regr_wrap.<locals>.MyEstimator'> fitted with randomseed: 19\n"
     ]
    },
    {
     "name": "stderr",
     "output_type": "stream",
     "text": [
      "c:\\Users\\Gavriil\\anaconda3\\Lib\\site-packages\\sklearn\\metrics\\_regression.py:492: FutureWarning: 'squared' is deprecated in version 1.4 and will be removed in 1.6. To calculate the root mean squared error, use the function'root_mean_squared_error'.\n",
      "  warnings.warn(\n"
     ]
    },
    {
     "name": "stdout",
     "output_type": "stream",
     "text": [
      "<class '__main__.skl_regr_wrap.<locals>.MyEstimator'> fitted with randomseed: 19\n",
      "iter: 20\n",
      "<class '__main__.skl_regr_wrap.<locals>.MyEstimator'> fitted with randomseed: 20\n",
      "<class '__main__.skl_regr_wrap.<locals>.MyEstimator'> fitted with randomseed: 20\n"
     ]
    },
    {
     "name": "stderr",
     "output_type": "stream",
     "text": [
      "c:\\Users\\Gavriil\\anaconda3\\Lib\\site-packages\\sklearn\\metrics\\_regression.py:492: FutureWarning: 'squared' is deprecated in version 1.4 and will be removed in 1.6. To calculate the root mean squared error, use the function'root_mean_squared_error'.\n",
      "  warnings.warn(\n"
     ]
    },
    {
     "name": "stdout",
     "output_type": "stream",
     "text": [
      "<class '__main__.skl_regr_wrap.<locals>.MyEstimator'> fitted with randomseed: 20\n",
      "iter: 21\n",
      "<class '__main__.skl_regr_wrap.<locals>.MyEstimator'> fitted with randomseed: 21\n",
      "<class '__main__.skl_regr_wrap.<locals>.MyEstimator'> fitted with randomseed: 21\n"
     ]
    },
    {
     "name": "stderr",
     "output_type": "stream",
     "text": [
      "c:\\Users\\Gavriil\\anaconda3\\Lib\\site-packages\\sklearn\\metrics\\_regression.py:492: FutureWarning: 'squared' is deprecated in version 1.4 and will be removed in 1.6. To calculate the root mean squared error, use the function'root_mean_squared_error'.\n",
      "  warnings.warn(\n"
     ]
    },
    {
     "name": "stdout",
     "output_type": "stream",
     "text": [
      "<class '__main__.skl_regr_wrap.<locals>.MyEstimator'> fitted with randomseed: 21\n",
      "iter: 22\n",
      "<class '__main__.skl_regr_wrap.<locals>.MyEstimator'> fitted with randomseed: 22\n",
      "<class '__main__.skl_regr_wrap.<locals>.MyEstimator'> fitted with randomseed: 22\n"
     ]
    },
    {
     "name": "stderr",
     "output_type": "stream",
     "text": [
      "c:\\Users\\Gavriil\\anaconda3\\Lib\\site-packages\\sklearn\\metrics\\_regression.py:492: FutureWarning: 'squared' is deprecated in version 1.4 and will be removed in 1.6. To calculate the root mean squared error, use the function'root_mean_squared_error'.\n",
      "  warnings.warn(\n"
     ]
    },
    {
     "name": "stdout",
     "output_type": "stream",
     "text": [
      "<class '__main__.skl_regr_wrap.<locals>.MyEstimator'> fitted with randomseed: 22\n",
      "iter: 23\n",
      "<class '__main__.skl_regr_wrap.<locals>.MyEstimator'> fitted with randomseed: 23\n",
      "<class '__main__.skl_regr_wrap.<locals>.MyEstimator'> fitted with randomseed: 23\n",
      "<class '__main__.skl_regr_wrap.<locals>.MyEstimator'> fitted with randomseed: 23\n"
     ]
    },
    {
     "name": "stderr",
     "output_type": "stream",
     "text": [
      "c:\\Users\\Gavriil\\anaconda3\\Lib\\site-packages\\sklearn\\metrics\\_regression.py:492: FutureWarning: 'squared' is deprecated in version 1.4 and will be removed in 1.6. To calculate the root mean squared error, use the function'root_mean_squared_error'.\n",
      "  warnings.warn(\n"
     ]
    },
    {
     "name": "stdout",
     "output_type": "stream",
     "text": [
      "iter: 24\n",
      "<class '__main__.skl_regr_wrap.<locals>.MyEstimator'> fitted with randomseed: 24\n",
      "<class '__main__.skl_regr_wrap.<locals>.MyEstimator'> fitted with randomseed: 24\n"
     ]
    },
    {
     "name": "stderr",
     "output_type": "stream",
     "text": [
      "c:\\Users\\Gavriil\\anaconda3\\Lib\\site-packages\\sklearn\\metrics\\_regression.py:492: FutureWarning: 'squared' is deprecated in version 1.4 and will be removed in 1.6. To calculate the root mean squared error, use the function'root_mean_squared_error'.\n",
      "  warnings.warn(\n"
     ]
    },
    {
     "name": "stdout",
     "output_type": "stream",
     "text": [
      "<class '__main__.skl_regr_wrap.<locals>.MyEstimator'> fitted with randomseed: 24\n",
      "iter: 25\n",
      "<class '__main__.skl_regr_wrap.<locals>.MyEstimator'> fitted with randomseed: 25\n",
      "<class '__main__.skl_regr_wrap.<locals>.MyEstimator'> fitted with randomseed: 25\n"
     ]
    },
    {
     "name": "stderr",
     "output_type": "stream",
     "text": [
      "c:\\Users\\Gavriil\\anaconda3\\Lib\\site-packages\\sklearn\\metrics\\_regression.py:492: FutureWarning: 'squared' is deprecated in version 1.4 and will be removed in 1.6. To calculate the root mean squared error, use the function'root_mean_squared_error'.\n",
      "  warnings.warn(\n"
     ]
    },
    {
     "name": "stdout",
     "output_type": "stream",
     "text": [
      "<class '__main__.skl_regr_wrap.<locals>.MyEstimator'> fitted with randomseed: 25\n",
      "iter: 26\n",
      "<class '__main__.skl_regr_wrap.<locals>.MyEstimator'> fitted with randomseed: 26\n",
      "<class '__main__.skl_regr_wrap.<locals>.MyEstimator'> fitted with randomseed: 26\n"
     ]
    },
    {
     "name": "stderr",
     "output_type": "stream",
     "text": [
      "c:\\Users\\Gavriil\\anaconda3\\Lib\\site-packages\\sklearn\\metrics\\_regression.py:492: FutureWarning: 'squared' is deprecated in version 1.4 and will be removed in 1.6. To calculate the root mean squared error, use the function'root_mean_squared_error'.\n",
      "  warnings.warn(\n"
     ]
    },
    {
     "name": "stdout",
     "output_type": "stream",
     "text": [
      "<class '__main__.skl_regr_wrap.<locals>.MyEstimator'> fitted with randomseed: 26\n",
      "iter: 27\n",
      "<class '__main__.skl_regr_wrap.<locals>.MyEstimator'> fitted with randomseed: 27\n",
      "<class '__main__.skl_regr_wrap.<locals>.MyEstimator'> fitted with randomseed: 27\n"
     ]
    },
    {
     "name": "stderr",
     "output_type": "stream",
     "text": [
      "c:\\Users\\Gavriil\\anaconda3\\Lib\\site-packages\\sklearn\\metrics\\_regression.py:492: FutureWarning: 'squared' is deprecated in version 1.4 and will be removed in 1.6. To calculate the root mean squared error, use the function'root_mean_squared_error'.\n",
      "  warnings.warn(\n"
     ]
    },
    {
     "name": "stdout",
     "output_type": "stream",
     "text": [
      "<class '__main__.skl_regr_wrap.<locals>.MyEstimator'> fitted with randomseed: 27\n",
      "iter: 28\n",
      "<class '__main__.skl_regr_wrap.<locals>.MyEstimator'> fitted with randomseed: 28\n",
      "<class '__main__.skl_regr_wrap.<locals>.MyEstimator'> fitted with randomseed: 28\n"
     ]
    },
    {
     "name": "stderr",
     "output_type": "stream",
     "text": [
      "c:\\Users\\Gavriil\\anaconda3\\Lib\\site-packages\\sklearn\\metrics\\_regression.py:492: FutureWarning: 'squared' is deprecated in version 1.4 and will be removed in 1.6. To calculate the root mean squared error, use the function'root_mean_squared_error'.\n",
      "  warnings.warn(\n"
     ]
    },
    {
     "name": "stdout",
     "output_type": "stream",
     "text": [
      "<class '__main__.skl_regr_wrap.<locals>.MyEstimator'> fitted with randomseed: 28\n",
      "iter: 29\n",
      "<class '__main__.skl_regr_wrap.<locals>.MyEstimator'> fitted with randomseed: 29\n",
      "<class '__main__.skl_regr_wrap.<locals>.MyEstimator'> fitted with randomseed: 29\n"
     ]
    },
    {
     "name": "stderr",
     "output_type": "stream",
     "text": [
      "c:\\Users\\Gavriil\\anaconda3\\Lib\\site-packages\\sklearn\\metrics\\_regression.py:492: FutureWarning: 'squared' is deprecated in version 1.4 and will be removed in 1.6. To calculate the root mean squared error, use the function'root_mean_squared_error'.\n",
      "  warnings.warn(\n"
     ]
    },
    {
     "name": "stdout",
     "output_type": "stream",
     "text": [
      "<class '__main__.skl_regr_wrap.<locals>.MyEstimator'> fitted with randomseed: 29\n",
      "iter: 30\n",
      "<class '__main__.skl_regr_wrap.<locals>.MyEstimator'> fitted with randomseed: 30\n",
      "<class '__main__.skl_regr_wrap.<locals>.MyEstimator'> fitted with randomseed: 30\n"
     ]
    },
    {
     "name": "stderr",
     "output_type": "stream",
     "text": [
      "c:\\Users\\Gavriil\\anaconda3\\Lib\\site-packages\\sklearn\\metrics\\_regression.py:492: FutureWarning: 'squared' is deprecated in version 1.4 and will be removed in 1.6. To calculate the root mean squared error, use the function'root_mean_squared_error'.\n",
      "  warnings.warn(\n"
     ]
    },
    {
     "name": "stdout",
     "output_type": "stream",
     "text": [
      "<class '__main__.skl_regr_wrap.<locals>.MyEstimator'> fitted with randomseed: 30\n",
      "iter: 31\n",
      "<class '__main__.skl_regr_wrap.<locals>.MyEstimator'> fitted with randomseed: 31\n",
      "<class '__main__.skl_regr_wrap.<locals>.MyEstimator'> fitted with randomseed: 31\n"
     ]
    },
    {
     "name": "stderr",
     "output_type": "stream",
     "text": [
      "c:\\Users\\Gavriil\\anaconda3\\Lib\\site-packages\\sklearn\\metrics\\_regression.py:492: FutureWarning: 'squared' is deprecated in version 1.4 and will be removed in 1.6. To calculate the root mean squared error, use the function'root_mean_squared_error'.\n",
      "  warnings.warn(\n"
     ]
    },
    {
     "name": "stdout",
     "output_type": "stream",
     "text": [
      "<class '__main__.skl_regr_wrap.<locals>.MyEstimator'> fitted with randomseed: 31\n",
      "iter: 32\n",
      "<class '__main__.skl_regr_wrap.<locals>.MyEstimator'> fitted with randomseed: 32\n",
      "<class '__main__.skl_regr_wrap.<locals>.MyEstimator'> fitted with randomseed: 32\n"
     ]
    },
    {
     "name": "stderr",
     "output_type": "stream",
     "text": [
      "c:\\Users\\Gavriil\\anaconda3\\Lib\\site-packages\\sklearn\\metrics\\_regression.py:492: FutureWarning: 'squared' is deprecated in version 1.4 and will be removed in 1.6. To calculate the root mean squared error, use the function'root_mean_squared_error'.\n",
      "  warnings.warn(\n"
     ]
    },
    {
     "name": "stdout",
     "output_type": "stream",
     "text": [
      "<class '__main__.skl_regr_wrap.<locals>.MyEstimator'> fitted with randomseed: 32\n",
      "iter: 33\n",
      "<class '__main__.skl_regr_wrap.<locals>.MyEstimator'> fitted with randomseed: 33\n",
      "<class '__main__.skl_regr_wrap.<locals>.MyEstimator'> fitted with randomseed: 33\n"
     ]
    },
    {
     "name": "stderr",
     "output_type": "stream",
     "text": [
      "c:\\Users\\Gavriil\\anaconda3\\Lib\\site-packages\\sklearn\\metrics\\_regression.py:492: FutureWarning: 'squared' is deprecated in version 1.4 and will be removed in 1.6. To calculate the root mean squared error, use the function'root_mean_squared_error'.\n",
      "  warnings.warn(\n"
     ]
    },
    {
     "name": "stdout",
     "output_type": "stream",
     "text": [
      "<class '__main__.skl_regr_wrap.<locals>.MyEstimator'> fitted with randomseed: 33\n",
      "iter: 34\n",
      "<class '__main__.skl_regr_wrap.<locals>.MyEstimator'> fitted with randomseed: 34\n",
      "<class '__main__.skl_regr_wrap.<locals>.MyEstimator'> fitted with randomseed: 34\n"
     ]
    },
    {
     "name": "stderr",
     "output_type": "stream",
     "text": [
      "c:\\Users\\Gavriil\\anaconda3\\Lib\\site-packages\\sklearn\\metrics\\_regression.py:492: FutureWarning: 'squared' is deprecated in version 1.4 and will be removed in 1.6. To calculate the root mean squared error, use the function'root_mean_squared_error'.\n",
      "  warnings.warn(\n"
     ]
    },
    {
     "name": "stdout",
     "output_type": "stream",
     "text": [
      "<class '__main__.skl_regr_wrap.<locals>.MyEstimator'> fitted with randomseed: 34\n",
      "iter: 35\n",
      "<class '__main__.skl_regr_wrap.<locals>.MyEstimator'> fitted with randomseed: 35\n",
      "<class '__main__.skl_regr_wrap.<locals>.MyEstimator'> fitted with randomseed: 35\n"
     ]
    },
    {
     "name": "stderr",
     "output_type": "stream",
     "text": [
      "c:\\Users\\Gavriil\\anaconda3\\Lib\\site-packages\\sklearn\\metrics\\_regression.py:492: FutureWarning: 'squared' is deprecated in version 1.4 and will be removed in 1.6. To calculate the root mean squared error, use the function'root_mean_squared_error'.\n",
      "  warnings.warn(\n"
     ]
    },
    {
     "name": "stdout",
     "output_type": "stream",
     "text": [
      "<class '__main__.skl_regr_wrap.<locals>.MyEstimator'> fitted with randomseed: 35\n",
      "iter: 36\n",
      "<class '__main__.skl_regr_wrap.<locals>.MyEstimator'> fitted with randomseed: 36\n",
      "<class '__main__.skl_regr_wrap.<locals>.MyEstimator'> fitted with randomseed: 36\n"
     ]
    },
    {
     "name": "stderr",
     "output_type": "stream",
     "text": [
      "c:\\Users\\Gavriil\\anaconda3\\Lib\\site-packages\\sklearn\\metrics\\_regression.py:492: FutureWarning: 'squared' is deprecated in version 1.4 and will be removed in 1.6. To calculate the root mean squared error, use the function'root_mean_squared_error'.\n",
      "  warnings.warn(\n"
     ]
    },
    {
     "name": "stdout",
     "output_type": "stream",
     "text": [
      "<class '__main__.skl_regr_wrap.<locals>.MyEstimator'> fitted with randomseed: 36\n",
      "iter: 37\n",
      "<class '__main__.skl_regr_wrap.<locals>.MyEstimator'> fitted with randomseed: 37\n",
      "<class '__main__.skl_regr_wrap.<locals>.MyEstimator'> fitted with randomseed: 37\n"
     ]
    },
    {
     "name": "stderr",
     "output_type": "stream",
     "text": [
      "c:\\Users\\Gavriil\\anaconda3\\Lib\\site-packages\\sklearn\\metrics\\_regression.py:492: FutureWarning: 'squared' is deprecated in version 1.4 and will be removed in 1.6. To calculate the root mean squared error, use the function'root_mean_squared_error'.\n",
      "  warnings.warn(\n"
     ]
    },
    {
     "name": "stdout",
     "output_type": "stream",
     "text": [
      "<class '__main__.skl_regr_wrap.<locals>.MyEstimator'> fitted with randomseed: 37\n",
      "iter: 38\n",
      "<class '__main__.skl_regr_wrap.<locals>.MyEstimator'> fitted with randomseed: 38\n",
      "<class '__main__.skl_regr_wrap.<locals>.MyEstimator'> fitted with randomseed: 38\n"
     ]
    },
    {
     "name": "stderr",
     "output_type": "stream",
     "text": [
      "c:\\Users\\Gavriil\\anaconda3\\Lib\\site-packages\\sklearn\\metrics\\_regression.py:492: FutureWarning: 'squared' is deprecated in version 1.4 and will be removed in 1.6. To calculate the root mean squared error, use the function'root_mean_squared_error'.\n",
      "  warnings.warn(\n"
     ]
    },
    {
     "name": "stdout",
     "output_type": "stream",
     "text": [
      "<class '__main__.skl_regr_wrap.<locals>.MyEstimator'> fitted with randomseed: 38\n",
      "iter: 39\n",
      "<class '__main__.skl_regr_wrap.<locals>.MyEstimator'> fitted with randomseed: 39\n",
      "<class '__main__.skl_regr_wrap.<locals>.MyEstimator'> fitted with randomseed: 39\n"
     ]
    },
    {
     "name": "stderr",
     "output_type": "stream",
     "text": [
      "c:\\Users\\Gavriil\\anaconda3\\Lib\\site-packages\\sklearn\\metrics\\_regression.py:492: FutureWarning: 'squared' is deprecated in version 1.4 and will be removed in 1.6. To calculate the root mean squared error, use the function'root_mean_squared_error'.\n",
      "  warnings.warn(\n"
     ]
    },
    {
     "name": "stdout",
     "output_type": "stream",
     "text": [
      "<class '__main__.skl_regr_wrap.<locals>.MyEstimator'> fitted with randomseed: 39\n",
      "iter: 40\n",
      "<class '__main__.skl_regr_wrap.<locals>.MyEstimator'> fitted with randomseed: 40\n",
      "<class '__main__.skl_regr_wrap.<locals>.MyEstimator'> fitted with randomseed: 40\n"
     ]
    },
    {
     "name": "stderr",
     "output_type": "stream",
     "text": [
      "c:\\Users\\Gavriil\\anaconda3\\Lib\\site-packages\\sklearn\\metrics\\_regression.py:492: FutureWarning: 'squared' is deprecated in version 1.4 and will be removed in 1.6. To calculate the root mean squared error, use the function'root_mean_squared_error'.\n",
      "  warnings.warn(\n"
     ]
    },
    {
     "name": "stdout",
     "output_type": "stream",
     "text": [
      "<class '__main__.skl_regr_wrap.<locals>.MyEstimator'> fitted with randomseed: 40\n",
      "iter: 41\n",
      "<class '__main__.skl_regr_wrap.<locals>.MyEstimator'> fitted with randomseed: 41\n",
      "<class '__main__.skl_regr_wrap.<locals>.MyEstimator'> fitted with randomseed: 41\n"
     ]
    },
    {
     "name": "stderr",
     "output_type": "stream",
     "text": [
      "c:\\Users\\Gavriil\\anaconda3\\Lib\\site-packages\\sklearn\\metrics\\_regression.py:492: FutureWarning: 'squared' is deprecated in version 1.4 and will be removed in 1.6. To calculate the root mean squared error, use the function'root_mean_squared_error'.\n",
      "  warnings.warn(\n"
     ]
    },
    {
     "name": "stdout",
     "output_type": "stream",
     "text": [
      "<class '__main__.skl_regr_wrap.<locals>.MyEstimator'> fitted with randomseed: 41\n",
      "iter: 42\n",
      "<class '__main__.skl_regr_wrap.<locals>.MyEstimator'> fitted with randomseed: 42\n",
      "<class '__main__.skl_regr_wrap.<locals>.MyEstimator'> fitted with randomseed: 42\n"
     ]
    },
    {
     "name": "stderr",
     "output_type": "stream",
     "text": [
      "c:\\Users\\Gavriil\\anaconda3\\Lib\\site-packages\\sklearn\\metrics\\_regression.py:492: FutureWarning: 'squared' is deprecated in version 1.4 and will be removed in 1.6. To calculate the root mean squared error, use the function'root_mean_squared_error'.\n",
      "  warnings.warn(\n"
     ]
    },
    {
     "name": "stdout",
     "output_type": "stream",
     "text": [
      "<class '__main__.skl_regr_wrap.<locals>.MyEstimator'> fitted with randomseed: 42\n",
      "iter: 43\n",
      "<class '__main__.skl_regr_wrap.<locals>.MyEstimator'> fitted with randomseed: 43\n",
      "<class '__main__.skl_regr_wrap.<locals>.MyEstimator'> fitted with randomseed: 43\n"
     ]
    },
    {
     "name": "stderr",
     "output_type": "stream",
     "text": [
      "c:\\Users\\Gavriil\\anaconda3\\Lib\\site-packages\\sklearn\\metrics\\_regression.py:492: FutureWarning: 'squared' is deprecated in version 1.4 and will be removed in 1.6. To calculate the root mean squared error, use the function'root_mean_squared_error'.\n",
      "  warnings.warn(\n"
     ]
    },
    {
     "name": "stdout",
     "output_type": "stream",
     "text": [
      "<class '__main__.skl_regr_wrap.<locals>.MyEstimator'> fitted with randomseed: 43\n",
      "iter: 44\n",
      "<class '__main__.skl_regr_wrap.<locals>.MyEstimator'> fitted with randomseed: 44\n",
      "<class '__main__.skl_regr_wrap.<locals>.MyEstimator'> fitted with randomseed: 44\n"
     ]
    },
    {
     "name": "stderr",
     "output_type": "stream",
     "text": [
      "c:\\Users\\Gavriil\\anaconda3\\Lib\\site-packages\\sklearn\\metrics\\_regression.py:492: FutureWarning: 'squared' is deprecated in version 1.4 and will be removed in 1.6. To calculate the root mean squared error, use the function'root_mean_squared_error'.\n",
      "  warnings.warn(\n"
     ]
    },
    {
     "name": "stdout",
     "output_type": "stream",
     "text": [
      "<class '__main__.skl_regr_wrap.<locals>.MyEstimator'> fitted with randomseed: 44\n",
      "iter: 45\n",
      "<class '__main__.skl_regr_wrap.<locals>.MyEstimator'> fitted with randomseed: 45\n",
      "<class '__main__.skl_regr_wrap.<locals>.MyEstimator'> fitted with randomseed: 45\n"
     ]
    },
    {
     "name": "stderr",
     "output_type": "stream",
     "text": [
      "c:\\Users\\Gavriil\\anaconda3\\Lib\\site-packages\\sklearn\\metrics\\_regression.py:492: FutureWarning: 'squared' is deprecated in version 1.4 and will be removed in 1.6. To calculate the root mean squared error, use the function'root_mean_squared_error'.\n",
      "  warnings.warn(\n"
     ]
    },
    {
     "name": "stdout",
     "output_type": "stream",
     "text": [
      "<class '__main__.skl_regr_wrap.<locals>.MyEstimator'> fitted with randomseed: 45\n",
      "iter: 46\n",
      "<class '__main__.skl_regr_wrap.<locals>.MyEstimator'> fitted with randomseed: 46\n",
      "<class '__main__.skl_regr_wrap.<locals>.MyEstimator'> fitted with randomseed: 46\n"
     ]
    },
    {
     "name": "stderr",
     "output_type": "stream",
     "text": [
      "c:\\Users\\Gavriil\\anaconda3\\Lib\\site-packages\\sklearn\\metrics\\_regression.py:492: FutureWarning: 'squared' is deprecated in version 1.4 and will be removed in 1.6. To calculate the root mean squared error, use the function'root_mean_squared_error'.\n",
      "  warnings.warn(\n"
     ]
    },
    {
     "name": "stdout",
     "output_type": "stream",
     "text": [
      "<class '__main__.skl_regr_wrap.<locals>.MyEstimator'> fitted with randomseed: 46\n",
      "iter: 47\n",
      "<class '__main__.skl_regr_wrap.<locals>.MyEstimator'> fitted with randomseed: 47\n",
      "<class '__main__.skl_regr_wrap.<locals>.MyEstimator'> fitted with randomseed: 47\n"
     ]
    },
    {
     "name": "stderr",
     "output_type": "stream",
     "text": [
      "c:\\Users\\Gavriil\\anaconda3\\Lib\\site-packages\\sklearn\\metrics\\_regression.py:492: FutureWarning: 'squared' is deprecated in version 1.4 and will be removed in 1.6. To calculate the root mean squared error, use the function'root_mean_squared_error'.\n",
      "  warnings.warn(\n"
     ]
    },
    {
     "name": "stdout",
     "output_type": "stream",
     "text": [
      "<class '__main__.skl_regr_wrap.<locals>.MyEstimator'> fitted with randomseed: 47\n",
      "iter: 48\n",
      "<class '__main__.skl_regr_wrap.<locals>.MyEstimator'> fitted with randomseed: 48\n",
      "<class '__main__.skl_regr_wrap.<locals>.MyEstimator'> fitted with randomseed: 48\n"
     ]
    },
    {
     "name": "stderr",
     "output_type": "stream",
     "text": [
      "c:\\Users\\Gavriil\\anaconda3\\Lib\\site-packages\\sklearn\\metrics\\_regression.py:492: FutureWarning: 'squared' is deprecated in version 1.4 and will be removed in 1.6. To calculate the root mean squared error, use the function'root_mean_squared_error'.\n",
      "  warnings.warn(\n"
     ]
    },
    {
     "name": "stdout",
     "output_type": "stream",
     "text": [
      "<class '__main__.skl_regr_wrap.<locals>.MyEstimator'> fitted with randomseed: 48\n",
      "iter: 49\n",
      "<class '__main__.skl_regr_wrap.<locals>.MyEstimator'> fitted with randomseed: 49\n",
      "<class '__main__.skl_regr_wrap.<locals>.MyEstimator'> fitted with randomseed: 49\n"
     ]
    },
    {
     "name": "stderr",
     "output_type": "stream",
     "text": [
      "c:\\Users\\Gavriil\\anaconda3\\Lib\\site-packages\\sklearn\\metrics\\_regression.py:492: FutureWarning: 'squared' is deprecated in version 1.4 and will be removed in 1.6. To calculate the root mean squared error, use the function'root_mean_squared_error'.\n",
      "  warnings.warn(\n"
     ]
    },
    {
     "name": "stdout",
     "output_type": "stream",
     "text": [
      "<class '__main__.skl_regr_wrap.<locals>.MyEstimator'> fitted with randomseed: 49\n",
      "iter: 50\n",
      "<class '__main__.skl_regr_wrap.<locals>.MyEstimator'> fitted with randomseed: 50\n",
      "<class '__main__.skl_regr_wrap.<locals>.MyEstimator'> fitted with randomseed: 50\n"
     ]
    },
    {
     "name": "stderr",
     "output_type": "stream",
     "text": [
      "c:\\Users\\Gavriil\\anaconda3\\Lib\\site-packages\\sklearn\\metrics\\_regression.py:492: FutureWarning: 'squared' is deprecated in version 1.4 and will be removed in 1.6. To calculate the root mean squared error, use the function'root_mean_squared_error'.\n",
      "  warnings.warn(\n"
     ]
    },
    {
     "name": "stdout",
     "output_type": "stream",
     "text": [
      "<class '__main__.skl_regr_wrap.<locals>.MyEstimator'> fitted with randomseed: 50\n",
      "iter: 51\n",
      "<class '__main__.skl_regr_wrap.<locals>.MyEstimator'> fitted with randomseed: 51\n",
      "<class '__main__.skl_regr_wrap.<locals>.MyEstimator'> fitted with randomseed: 51\n"
     ]
    },
    {
     "name": "stderr",
     "output_type": "stream",
     "text": [
      "c:\\Users\\Gavriil\\anaconda3\\Lib\\site-packages\\sklearn\\metrics\\_regression.py:492: FutureWarning: 'squared' is deprecated in version 1.4 and will be removed in 1.6. To calculate the root mean squared error, use the function'root_mean_squared_error'.\n",
      "  warnings.warn(\n"
     ]
    },
    {
     "name": "stdout",
     "output_type": "stream",
     "text": [
      "<class '__main__.skl_regr_wrap.<locals>.MyEstimator'> fitted with randomseed: 51\n",
      "iter: 52\n",
      "<class '__main__.skl_regr_wrap.<locals>.MyEstimator'> fitted with randomseed: 52\n",
      "<class '__main__.skl_regr_wrap.<locals>.MyEstimator'> fitted with randomseed: 52\n"
     ]
    },
    {
     "name": "stderr",
     "output_type": "stream",
     "text": [
      "c:\\Users\\Gavriil\\anaconda3\\Lib\\site-packages\\sklearn\\metrics\\_regression.py:492: FutureWarning: 'squared' is deprecated in version 1.4 and will be removed in 1.6. To calculate the root mean squared error, use the function'root_mean_squared_error'.\n",
      "  warnings.warn(\n"
     ]
    },
    {
     "name": "stdout",
     "output_type": "stream",
     "text": [
      "<class '__main__.skl_regr_wrap.<locals>.MyEstimator'> fitted with randomseed: 52\n",
      "iter: 53\n",
      "<class '__main__.skl_regr_wrap.<locals>.MyEstimator'> fitted with randomseed: 53\n",
      "<class '__main__.skl_regr_wrap.<locals>.MyEstimator'> fitted with randomseed: 53\n"
     ]
    },
    {
     "name": "stderr",
     "output_type": "stream",
     "text": [
      "c:\\Users\\Gavriil\\anaconda3\\Lib\\site-packages\\sklearn\\metrics\\_regression.py:492: FutureWarning: 'squared' is deprecated in version 1.4 and will be removed in 1.6. To calculate the root mean squared error, use the function'root_mean_squared_error'.\n",
      "  warnings.warn(\n"
     ]
    },
    {
     "name": "stdout",
     "output_type": "stream",
     "text": [
      "<class '__main__.skl_regr_wrap.<locals>.MyEstimator'> fitted with randomseed: 53\n",
      "iter: 54\n",
      "<class '__main__.skl_regr_wrap.<locals>.MyEstimator'> fitted with randomseed: 54\n",
      "<class '__main__.skl_regr_wrap.<locals>.MyEstimator'> fitted with randomseed: 54\n"
     ]
    },
    {
     "name": "stderr",
     "output_type": "stream",
     "text": [
      "c:\\Users\\Gavriil\\anaconda3\\Lib\\site-packages\\sklearn\\metrics\\_regression.py:492: FutureWarning: 'squared' is deprecated in version 1.4 and will be removed in 1.6. To calculate the root mean squared error, use the function'root_mean_squared_error'.\n",
      "  warnings.warn(\n"
     ]
    },
    {
     "name": "stdout",
     "output_type": "stream",
     "text": [
      "<class '__main__.skl_regr_wrap.<locals>.MyEstimator'> fitted with randomseed: 54\n",
      "iter: 55\n",
      "<class '__main__.skl_regr_wrap.<locals>.MyEstimator'> fitted with randomseed: 55\n",
      "<class '__main__.skl_regr_wrap.<locals>.MyEstimator'> fitted with randomseed: 55\n"
     ]
    },
    {
     "name": "stderr",
     "output_type": "stream",
     "text": [
      "c:\\Users\\Gavriil\\anaconda3\\Lib\\site-packages\\sklearn\\metrics\\_regression.py:492: FutureWarning: 'squared' is deprecated in version 1.4 and will be removed in 1.6. To calculate the root mean squared error, use the function'root_mean_squared_error'.\n",
      "  warnings.warn(\n"
     ]
    },
    {
     "name": "stdout",
     "output_type": "stream",
     "text": [
      "<class '__main__.skl_regr_wrap.<locals>.MyEstimator'> fitted with randomseed: 55\n",
      "iter: 56\n",
      "<class '__main__.skl_regr_wrap.<locals>.MyEstimator'> fitted with randomseed: 56\n",
      "<class '__main__.skl_regr_wrap.<locals>.MyEstimator'> fitted with randomseed: 56\n"
     ]
    },
    {
     "name": "stderr",
     "output_type": "stream",
     "text": [
      "c:\\Users\\Gavriil\\anaconda3\\Lib\\site-packages\\sklearn\\metrics\\_regression.py:492: FutureWarning: 'squared' is deprecated in version 1.4 and will be removed in 1.6. To calculate the root mean squared error, use the function'root_mean_squared_error'.\n",
      "  warnings.warn(\n"
     ]
    },
    {
     "name": "stdout",
     "output_type": "stream",
     "text": [
      "<class '__main__.skl_regr_wrap.<locals>.MyEstimator'> fitted with randomseed: 56\n",
      "iter: 57\n",
      "<class '__main__.skl_regr_wrap.<locals>.MyEstimator'> fitted with randomseed: 57\n",
      "<class '__main__.skl_regr_wrap.<locals>.MyEstimator'> fitted with randomseed: 57\n"
     ]
    },
    {
     "name": "stderr",
     "output_type": "stream",
     "text": [
      "c:\\Users\\Gavriil\\anaconda3\\Lib\\site-packages\\sklearn\\metrics\\_regression.py:492: FutureWarning: 'squared' is deprecated in version 1.4 and will be removed in 1.6. To calculate the root mean squared error, use the function'root_mean_squared_error'.\n",
      "  warnings.warn(\n"
     ]
    },
    {
     "name": "stdout",
     "output_type": "stream",
     "text": [
      "<class '__main__.skl_regr_wrap.<locals>.MyEstimator'> fitted with randomseed: 57\n",
      "iter: 58\n",
      "<class '__main__.skl_regr_wrap.<locals>.MyEstimator'> fitted with randomseed: 58\n",
      "<class '__main__.skl_regr_wrap.<locals>.MyEstimator'> fitted with randomseed: 58\n"
     ]
    },
    {
     "name": "stderr",
     "output_type": "stream",
     "text": [
      "c:\\Users\\Gavriil\\anaconda3\\Lib\\site-packages\\sklearn\\metrics\\_regression.py:492: FutureWarning: 'squared' is deprecated in version 1.4 and will be removed in 1.6. To calculate the root mean squared error, use the function'root_mean_squared_error'.\n",
      "  warnings.warn(\n"
     ]
    },
    {
     "name": "stdout",
     "output_type": "stream",
     "text": [
      "<class '__main__.skl_regr_wrap.<locals>.MyEstimator'> fitted with randomseed: 58\n",
      "iter: 59\n",
      "<class '__main__.skl_regr_wrap.<locals>.MyEstimator'> fitted with randomseed: 59\n",
      "<class '__main__.skl_regr_wrap.<locals>.MyEstimator'> fitted with randomseed: 59\n"
     ]
    },
    {
     "name": "stderr",
     "output_type": "stream",
     "text": [
      "c:\\Users\\Gavriil\\anaconda3\\Lib\\site-packages\\sklearn\\metrics\\_regression.py:492: FutureWarning: 'squared' is deprecated in version 1.4 and will be removed in 1.6. To calculate the root mean squared error, use the function'root_mean_squared_error'.\n",
      "  warnings.warn(\n"
     ]
    },
    {
     "name": "stdout",
     "output_type": "stream",
     "text": [
      "<class '__main__.skl_regr_wrap.<locals>.MyEstimator'> fitted with randomseed: 59\n",
      "iter: 60\n",
      "<class '__main__.skl_regr_wrap.<locals>.MyEstimator'> fitted with randomseed: 60\n",
      "<class '__main__.skl_regr_wrap.<locals>.MyEstimator'> fitted with randomseed: 60\n"
     ]
    },
    {
     "name": "stderr",
     "output_type": "stream",
     "text": [
      "c:\\Users\\Gavriil\\anaconda3\\Lib\\site-packages\\sklearn\\metrics\\_regression.py:492: FutureWarning: 'squared' is deprecated in version 1.4 and will be removed in 1.6. To calculate the root mean squared error, use the function'root_mean_squared_error'.\n",
      "  warnings.warn(\n"
     ]
    },
    {
     "name": "stdout",
     "output_type": "stream",
     "text": [
      "<class '__main__.skl_regr_wrap.<locals>.MyEstimator'> fitted with randomseed: 60\n",
      "iter: 61\n",
      "<class '__main__.skl_regr_wrap.<locals>.MyEstimator'> fitted with randomseed: 61\n",
      "<class '__main__.skl_regr_wrap.<locals>.MyEstimator'> fitted with randomseed: 61\n"
     ]
    },
    {
     "name": "stderr",
     "output_type": "stream",
     "text": [
      "c:\\Users\\Gavriil\\anaconda3\\Lib\\site-packages\\sklearn\\metrics\\_regression.py:492: FutureWarning: 'squared' is deprecated in version 1.4 and will be removed in 1.6. To calculate the root mean squared error, use the function'root_mean_squared_error'.\n",
      "  warnings.warn(\n"
     ]
    },
    {
     "name": "stdout",
     "output_type": "stream",
     "text": [
      "<class '__main__.skl_regr_wrap.<locals>.MyEstimator'> fitted with randomseed: 61\n",
      "iter: 62\n",
      "<class '__main__.skl_regr_wrap.<locals>.MyEstimator'> fitted with randomseed: 62\n",
      "<class '__main__.skl_regr_wrap.<locals>.MyEstimator'> fitted with randomseed: 62\n"
     ]
    },
    {
     "name": "stderr",
     "output_type": "stream",
     "text": [
      "c:\\Users\\Gavriil\\anaconda3\\Lib\\site-packages\\sklearn\\metrics\\_regression.py:492: FutureWarning: 'squared' is deprecated in version 1.4 and will be removed in 1.6. To calculate the root mean squared error, use the function'root_mean_squared_error'.\n",
      "  warnings.warn(\n"
     ]
    },
    {
     "name": "stdout",
     "output_type": "stream",
     "text": [
      "<class '__main__.skl_regr_wrap.<locals>.MyEstimator'> fitted with randomseed: 62\n",
      "iter: 63\n",
      "<class '__main__.skl_regr_wrap.<locals>.MyEstimator'> fitted with randomseed: 63\n",
      "<class '__main__.skl_regr_wrap.<locals>.MyEstimator'> fitted with randomseed: 63\n"
     ]
    },
    {
     "name": "stderr",
     "output_type": "stream",
     "text": [
      "c:\\Users\\Gavriil\\anaconda3\\Lib\\site-packages\\sklearn\\metrics\\_regression.py:492: FutureWarning: 'squared' is deprecated in version 1.4 and will be removed in 1.6. To calculate the root mean squared error, use the function'root_mean_squared_error'.\n",
      "  warnings.warn(\n"
     ]
    },
    {
     "name": "stdout",
     "output_type": "stream",
     "text": [
      "<class '__main__.skl_regr_wrap.<locals>.MyEstimator'> fitted with randomseed: 63\n",
      "iter: 64\n",
      "<class '__main__.skl_regr_wrap.<locals>.MyEstimator'> fitted with randomseed: 64\n",
      "<class '__main__.skl_regr_wrap.<locals>.MyEstimator'> fitted with randomseed: 64\n"
     ]
    },
    {
     "name": "stderr",
     "output_type": "stream",
     "text": [
      "c:\\Users\\Gavriil\\anaconda3\\Lib\\site-packages\\sklearn\\metrics\\_regression.py:492: FutureWarning: 'squared' is deprecated in version 1.4 and will be removed in 1.6. To calculate the root mean squared error, use the function'root_mean_squared_error'.\n",
      "  warnings.warn(\n"
     ]
    },
    {
     "name": "stdout",
     "output_type": "stream",
     "text": [
      "<class '__main__.skl_regr_wrap.<locals>.MyEstimator'> fitted with randomseed: 64\n",
      "iter: 65\n",
      "<class '__main__.skl_regr_wrap.<locals>.MyEstimator'> fitted with randomseed: 65\n",
      "<class '__main__.skl_regr_wrap.<locals>.MyEstimator'> fitted with randomseed: 65\n"
     ]
    },
    {
     "name": "stderr",
     "output_type": "stream",
     "text": [
      "c:\\Users\\Gavriil\\anaconda3\\Lib\\site-packages\\sklearn\\metrics\\_regression.py:492: FutureWarning: 'squared' is deprecated in version 1.4 and will be removed in 1.6. To calculate the root mean squared error, use the function'root_mean_squared_error'.\n",
      "  warnings.warn(\n"
     ]
    },
    {
     "name": "stdout",
     "output_type": "stream",
     "text": [
      "<class '__main__.skl_regr_wrap.<locals>.MyEstimator'> fitted with randomseed: 65\n",
      "iter: 66\n",
      "<class '__main__.skl_regr_wrap.<locals>.MyEstimator'> fitted with randomseed: 66\n",
      "<class '__main__.skl_regr_wrap.<locals>.MyEstimator'> fitted with randomseed: 66\n"
     ]
    },
    {
     "name": "stderr",
     "output_type": "stream",
     "text": [
      "c:\\Users\\Gavriil\\anaconda3\\Lib\\site-packages\\sklearn\\metrics\\_regression.py:492: FutureWarning: 'squared' is deprecated in version 1.4 and will be removed in 1.6. To calculate the root mean squared error, use the function'root_mean_squared_error'.\n",
      "  warnings.warn(\n"
     ]
    },
    {
     "name": "stdout",
     "output_type": "stream",
     "text": [
      "<class '__main__.skl_regr_wrap.<locals>.MyEstimator'> fitted with randomseed: 66\n",
      "iter: 67\n",
      "<class '__main__.skl_regr_wrap.<locals>.MyEstimator'> fitted with randomseed: 67\n",
      "<class '__main__.skl_regr_wrap.<locals>.MyEstimator'> fitted with randomseed: 67\n"
     ]
    },
    {
     "name": "stderr",
     "output_type": "stream",
     "text": [
      "c:\\Users\\Gavriil\\anaconda3\\Lib\\site-packages\\sklearn\\metrics\\_regression.py:492: FutureWarning: 'squared' is deprecated in version 1.4 and will be removed in 1.6. To calculate the root mean squared error, use the function'root_mean_squared_error'.\n",
      "  warnings.warn(\n"
     ]
    },
    {
     "name": "stdout",
     "output_type": "stream",
     "text": [
      "<class '__main__.skl_regr_wrap.<locals>.MyEstimator'> fitted with randomseed: 67\n",
      "iter: 68\n",
      "<class '__main__.skl_regr_wrap.<locals>.MyEstimator'> fitted with randomseed: 68\n",
      "<class '__main__.skl_regr_wrap.<locals>.MyEstimator'> fitted with randomseed: 68\n"
     ]
    },
    {
     "name": "stderr",
     "output_type": "stream",
     "text": [
      "c:\\Users\\Gavriil\\anaconda3\\Lib\\site-packages\\sklearn\\metrics\\_regression.py:492: FutureWarning: 'squared' is deprecated in version 1.4 and will be removed in 1.6. To calculate the root mean squared error, use the function'root_mean_squared_error'.\n",
      "  warnings.warn(\n"
     ]
    },
    {
     "name": "stdout",
     "output_type": "stream",
     "text": [
      "<class '__main__.skl_regr_wrap.<locals>.MyEstimator'> fitted with randomseed: 68\n",
      "iter: 69\n",
      "<class '__main__.skl_regr_wrap.<locals>.MyEstimator'> fitted with randomseed: 69\n",
      "<class '__main__.skl_regr_wrap.<locals>.MyEstimator'> fitted with randomseed: 69\n"
     ]
    },
    {
     "name": "stderr",
     "output_type": "stream",
     "text": [
      "c:\\Users\\Gavriil\\anaconda3\\Lib\\site-packages\\sklearn\\metrics\\_regression.py:492: FutureWarning: 'squared' is deprecated in version 1.4 and will be removed in 1.6. To calculate the root mean squared error, use the function'root_mean_squared_error'.\n",
      "  warnings.warn(\n"
     ]
    },
    {
     "name": "stdout",
     "output_type": "stream",
     "text": [
      "<class '__main__.skl_regr_wrap.<locals>.MyEstimator'> fitted with randomseed: 69\n",
      "iter: 70\n",
      "<class '__main__.skl_regr_wrap.<locals>.MyEstimator'> fitted with randomseed: 70\n",
      "<class '__main__.skl_regr_wrap.<locals>.MyEstimator'> fitted with randomseed: 70\n"
     ]
    },
    {
     "name": "stderr",
     "output_type": "stream",
     "text": [
      "c:\\Users\\Gavriil\\anaconda3\\Lib\\site-packages\\sklearn\\metrics\\_regression.py:492: FutureWarning: 'squared' is deprecated in version 1.4 and will be removed in 1.6. To calculate the root mean squared error, use the function'root_mean_squared_error'.\n",
      "  warnings.warn(\n"
     ]
    },
    {
     "name": "stdout",
     "output_type": "stream",
     "text": [
      "<class '__main__.skl_regr_wrap.<locals>.MyEstimator'> fitted with randomseed: 70\n",
      "iter: 71\n",
      "<class '__main__.skl_regr_wrap.<locals>.MyEstimator'> fitted with randomseed: 71\n",
      "<class '__main__.skl_regr_wrap.<locals>.MyEstimator'> fitted with randomseed: 71\n"
     ]
    },
    {
     "name": "stderr",
     "output_type": "stream",
     "text": [
      "c:\\Users\\Gavriil\\anaconda3\\Lib\\site-packages\\sklearn\\metrics\\_regression.py:492: FutureWarning: 'squared' is deprecated in version 1.4 and will be removed in 1.6. To calculate the root mean squared error, use the function'root_mean_squared_error'.\n",
      "  warnings.warn(\n"
     ]
    },
    {
     "name": "stdout",
     "output_type": "stream",
     "text": [
      "<class '__main__.skl_regr_wrap.<locals>.MyEstimator'> fitted with randomseed: 71\n",
      "iter: 72\n",
      "<class '__main__.skl_regr_wrap.<locals>.MyEstimator'> fitted with randomseed: 72\n",
      "<class '__main__.skl_regr_wrap.<locals>.MyEstimator'> fitted with randomseed: 72\n"
     ]
    },
    {
     "name": "stderr",
     "output_type": "stream",
     "text": [
      "c:\\Users\\Gavriil\\anaconda3\\Lib\\site-packages\\sklearn\\metrics\\_regression.py:492: FutureWarning: 'squared' is deprecated in version 1.4 and will be removed in 1.6. To calculate the root mean squared error, use the function'root_mean_squared_error'.\n",
      "  warnings.warn(\n"
     ]
    },
    {
     "name": "stdout",
     "output_type": "stream",
     "text": [
      "<class '__main__.skl_regr_wrap.<locals>.MyEstimator'> fitted with randomseed: 72\n",
      "iter: 73\n",
      "<class '__main__.skl_regr_wrap.<locals>.MyEstimator'> fitted with randomseed: 73\n",
      "<class '__main__.skl_regr_wrap.<locals>.MyEstimator'> fitted with randomseed: 73\n"
     ]
    },
    {
     "name": "stderr",
     "output_type": "stream",
     "text": [
      "c:\\Users\\Gavriil\\anaconda3\\Lib\\site-packages\\sklearn\\metrics\\_regression.py:492: FutureWarning: 'squared' is deprecated in version 1.4 and will be removed in 1.6. To calculate the root mean squared error, use the function'root_mean_squared_error'.\n",
      "  warnings.warn(\n"
     ]
    },
    {
     "name": "stdout",
     "output_type": "stream",
     "text": [
      "<class '__main__.skl_regr_wrap.<locals>.MyEstimator'> fitted with randomseed: 73\n",
      "iter: 74\n",
      "<class '__main__.skl_regr_wrap.<locals>.MyEstimator'> fitted with randomseed: 74\n",
      "<class '__main__.skl_regr_wrap.<locals>.MyEstimator'> fitted with randomseed: 74\n"
     ]
    },
    {
     "name": "stderr",
     "output_type": "stream",
     "text": [
      "c:\\Users\\Gavriil\\anaconda3\\Lib\\site-packages\\sklearn\\metrics\\_regression.py:492: FutureWarning: 'squared' is deprecated in version 1.4 and will be removed in 1.6. To calculate the root mean squared error, use the function'root_mean_squared_error'.\n",
      "  warnings.warn(\n"
     ]
    },
    {
     "name": "stdout",
     "output_type": "stream",
     "text": [
      "<class '__main__.skl_regr_wrap.<locals>.MyEstimator'> fitted with randomseed: 74\n",
      "iter: 75\n",
      "<class '__main__.skl_regr_wrap.<locals>.MyEstimator'> fitted with randomseed: 75\n",
      "<class '__main__.skl_regr_wrap.<locals>.MyEstimator'> fitted with randomseed: 75\n"
     ]
    },
    {
     "name": "stderr",
     "output_type": "stream",
     "text": [
      "c:\\Users\\Gavriil\\anaconda3\\Lib\\site-packages\\sklearn\\metrics\\_regression.py:492: FutureWarning: 'squared' is deprecated in version 1.4 and will be removed in 1.6. To calculate the root mean squared error, use the function'root_mean_squared_error'.\n",
      "  warnings.warn(\n"
     ]
    },
    {
     "name": "stdout",
     "output_type": "stream",
     "text": [
      "<class '__main__.skl_regr_wrap.<locals>.MyEstimator'> fitted with randomseed: 75\n",
      "iter: 76\n",
      "<class '__main__.skl_regr_wrap.<locals>.MyEstimator'> fitted with randomseed: 76\n",
      "<class '__main__.skl_regr_wrap.<locals>.MyEstimator'> fitted with randomseed: 76\n"
     ]
    },
    {
     "name": "stderr",
     "output_type": "stream",
     "text": [
      "c:\\Users\\Gavriil\\anaconda3\\Lib\\site-packages\\sklearn\\metrics\\_regression.py:492: FutureWarning: 'squared' is deprecated in version 1.4 and will be removed in 1.6. To calculate the root mean squared error, use the function'root_mean_squared_error'.\n",
      "  warnings.warn(\n"
     ]
    },
    {
     "name": "stdout",
     "output_type": "stream",
     "text": [
      "<class '__main__.skl_regr_wrap.<locals>.MyEstimator'> fitted with randomseed: 76\n",
      "iter: 77\n",
      "<class '__main__.skl_regr_wrap.<locals>.MyEstimator'> fitted with randomseed: 77\n",
      "<class '__main__.skl_regr_wrap.<locals>.MyEstimator'> fitted with randomseed: 77\n"
     ]
    },
    {
     "name": "stderr",
     "output_type": "stream",
     "text": [
      "c:\\Users\\Gavriil\\anaconda3\\Lib\\site-packages\\sklearn\\metrics\\_regression.py:492: FutureWarning: 'squared' is deprecated in version 1.4 and will be removed in 1.6. To calculate the root mean squared error, use the function'root_mean_squared_error'.\n",
      "  warnings.warn(\n"
     ]
    },
    {
     "name": "stdout",
     "output_type": "stream",
     "text": [
      "<class '__main__.skl_regr_wrap.<locals>.MyEstimator'> fitted with randomseed: 77\n",
      "iter: 78\n",
      "<class '__main__.skl_regr_wrap.<locals>.MyEstimator'> fitted with randomseed: 78\n",
      "<class '__main__.skl_regr_wrap.<locals>.MyEstimator'> fitted with randomseed: 78\n"
     ]
    },
    {
     "name": "stderr",
     "output_type": "stream",
     "text": [
      "c:\\Users\\Gavriil\\anaconda3\\Lib\\site-packages\\sklearn\\metrics\\_regression.py:492: FutureWarning: 'squared' is deprecated in version 1.4 and will be removed in 1.6. To calculate the root mean squared error, use the function'root_mean_squared_error'.\n",
      "  warnings.warn(\n"
     ]
    },
    {
     "name": "stdout",
     "output_type": "stream",
     "text": [
      "<class '__main__.skl_regr_wrap.<locals>.MyEstimator'> fitted with randomseed: 78\n",
      "iter: 79\n",
      "<class '__main__.skl_regr_wrap.<locals>.MyEstimator'> fitted with randomseed: 79\n",
      "<class '__main__.skl_regr_wrap.<locals>.MyEstimator'> fitted with randomseed: 79\n"
     ]
    },
    {
     "name": "stderr",
     "output_type": "stream",
     "text": [
      "c:\\Users\\Gavriil\\anaconda3\\Lib\\site-packages\\sklearn\\metrics\\_regression.py:492: FutureWarning: 'squared' is deprecated in version 1.4 and will be removed in 1.6. To calculate the root mean squared error, use the function'root_mean_squared_error'.\n",
      "  warnings.warn(\n"
     ]
    },
    {
     "name": "stdout",
     "output_type": "stream",
     "text": [
      "<class '__main__.skl_regr_wrap.<locals>.MyEstimator'> fitted with randomseed: 79\n",
      "iter: 80\n",
      "<class '__main__.skl_regr_wrap.<locals>.MyEstimator'> fitted with randomseed: 80\n",
      "<class '__main__.skl_regr_wrap.<locals>.MyEstimator'> fitted with randomseed: 80\n"
     ]
    },
    {
     "name": "stderr",
     "output_type": "stream",
     "text": [
      "c:\\Users\\Gavriil\\anaconda3\\Lib\\site-packages\\sklearn\\metrics\\_regression.py:492: FutureWarning: 'squared' is deprecated in version 1.4 and will be removed in 1.6. To calculate the root mean squared error, use the function'root_mean_squared_error'.\n",
      "  warnings.warn(\n"
     ]
    },
    {
     "name": "stdout",
     "output_type": "stream",
     "text": [
      "<class '__main__.skl_regr_wrap.<locals>.MyEstimator'> fitted with randomseed: 80\n",
      "iter: 81\n",
      "<class '__main__.skl_regr_wrap.<locals>.MyEstimator'> fitted with randomseed: 81\n",
      "<class '__main__.skl_regr_wrap.<locals>.MyEstimator'> fitted with randomseed: 81\n"
     ]
    },
    {
     "name": "stderr",
     "output_type": "stream",
     "text": [
      "c:\\Users\\Gavriil\\anaconda3\\Lib\\site-packages\\sklearn\\metrics\\_regression.py:492: FutureWarning: 'squared' is deprecated in version 1.4 and will be removed in 1.6. To calculate the root mean squared error, use the function'root_mean_squared_error'.\n",
      "  warnings.warn(\n"
     ]
    },
    {
     "name": "stdout",
     "output_type": "stream",
     "text": [
      "<class '__main__.skl_regr_wrap.<locals>.MyEstimator'> fitted with randomseed: 81\n",
      "iter: 82\n",
      "<class '__main__.skl_regr_wrap.<locals>.MyEstimator'> fitted with randomseed: 82\n",
      "<class '__main__.skl_regr_wrap.<locals>.MyEstimator'> fitted with randomseed: 82\n"
     ]
    },
    {
     "name": "stderr",
     "output_type": "stream",
     "text": [
      "c:\\Users\\Gavriil\\anaconda3\\Lib\\site-packages\\sklearn\\metrics\\_regression.py:492: FutureWarning: 'squared' is deprecated in version 1.4 and will be removed in 1.6. To calculate the root mean squared error, use the function'root_mean_squared_error'.\n",
      "  warnings.warn(\n"
     ]
    },
    {
     "name": "stdout",
     "output_type": "stream",
     "text": [
      "<class '__main__.skl_regr_wrap.<locals>.MyEstimator'> fitted with randomseed: 82\n",
      "iter: 83\n",
      "<class '__main__.skl_regr_wrap.<locals>.MyEstimator'> fitted with randomseed: 83\n",
      "<class '__main__.skl_regr_wrap.<locals>.MyEstimator'> fitted with randomseed: 83\n"
     ]
    },
    {
     "name": "stderr",
     "output_type": "stream",
     "text": [
      "c:\\Users\\Gavriil\\anaconda3\\Lib\\site-packages\\sklearn\\metrics\\_regression.py:492: FutureWarning: 'squared' is deprecated in version 1.4 and will be removed in 1.6. To calculate the root mean squared error, use the function'root_mean_squared_error'.\n",
      "  warnings.warn(\n"
     ]
    },
    {
     "name": "stdout",
     "output_type": "stream",
     "text": [
      "<class '__main__.skl_regr_wrap.<locals>.MyEstimator'> fitted with randomseed: 83\n",
      "iter: 84\n",
      "<class '__main__.skl_regr_wrap.<locals>.MyEstimator'> fitted with randomseed: 84\n",
      "<class '__main__.skl_regr_wrap.<locals>.MyEstimator'> fitted with randomseed: 84\n"
     ]
    },
    {
     "name": "stderr",
     "output_type": "stream",
     "text": [
      "c:\\Users\\Gavriil\\anaconda3\\Lib\\site-packages\\sklearn\\metrics\\_regression.py:492: FutureWarning: 'squared' is deprecated in version 1.4 and will be removed in 1.6. To calculate the root mean squared error, use the function'root_mean_squared_error'.\n",
      "  warnings.warn(\n"
     ]
    },
    {
     "name": "stdout",
     "output_type": "stream",
     "text": [
      "<class '__main__.skl_regr_wrap.<locals>.MyEstimator'> fitted with randomseed: 84\n",
      "iter: 85\n",
      "<class '__main__.skl_regr_wrap.<locals>.MyEstimator'> fitted with randomseed: 85\n",
      "<class '__main__.skl_regr_wrap.<locals>.MyEstimator'> fitted with randomseed: 85\n"
     ]
    },
    {
     "name": "stderr",
     "output_type": "stream",
     "text": [
      "c:\\Users\\Gavriil\\anaconda3\\Lib\\site-packages\\sklearn\\metrics\\_regression.py:492: FutureWarning: 'squared' is deprecated in version 1.4 and will be removed in 1.6. To calculate the root mean squared error, use the function'root_mean_squared_error'.\n",
      "  warnings.warn(\n"
     ]
    },
    {
     "name": "stdout",
     "output_type": "stream",
     "text": [
      "<class '__main__.skl_regr_wrap.<locals>.MyEstimator'> fitted with randomseed: 85\n",
      "iter: 86\n",
      "<class '__main__.skl_regr_wrap.<locals>.MyEstimator'> fitted with randomseed: 86\n",
      "<class '__main__.skl_regr_wrap.<locals>.MyEstimator'> fitted with randomseed: 86\n"
     ]
    },
    {
     "name": "stderr",
     "output_type": "stream",
     "text": [
      "c:\\Users\\Gavriil\\anaconda3\\Lib\\site-packages\\sklearn\\metrics\\_regression.py:492: FutureWarning: 'squared' is deprecated in version 1.4 and will be removed in 1.6. To calculate the root mean squared error, use the function'root_mean_squared_error'.\n",
      "  warnings.warn(\n"
     ]
    },
    {
     "name": "stdout",
     "output_type": "stream",
     "text": [
      "<class '__main__.skl_regr_wrap.<locals>.MyEstimator'> fitted with randomseed: 86\n",
      "iter: 87\n",
      "<class '__main__.skl_regr_wrap.<locals>.MyEstimator'> fitted with randomseed: 87\n",
      "<class '__main__.skl_regr_wrap.<locals>.MyEstimator'> fitted with randomseed: 87\n"
     ]
    },
    {
     "name": "stderr",
     "output_type": "stream",
     "text": [
      "c:\\Users\\Gavriil\\anaconda3\\Lib\\site-packages\\sklearn\\metrics\\_regression.py:492: FutureWarning: 'squared' is deprecated in version 1.4 and will be removed in 1.6. To calculate the root mean squared error, use the function'root_mean_squared_error'.\n",
      "  warnings.warn(\n"
     ]
    },
    {
     "name": "stdout",
     "output_type": "stream",
     "text": [
      "<class '__main__.skl_regr_wrap.<locals>.MyEstimator'> fitted with randomseed: 87\n",
      "iter: 88\n",
      "<class '__main__.skl_regr_wrap.<locals>.MyEstimator'> fitted with randomseed: 88\n",
      "<class '__main__.skl_regr_wrap.<locals>.MyEstimator'> fitted with randomseed: 88\n"
     ]
    },
    {
     "name": "stderr",
     "output_type": "stream",
     "text": [
      "c:\\Users\\Gavriil\\anaconda3\\Lib\\site-packages\\sklearn\\metrics\\_regression.py:492: FutureWarning: 'squared' is deprecated in version 1.4 and will be removed in 1.6. To calculate the root mean squared error, use the function'root_mean_squared_error'.\n",
      "  warnings.warn(\n"
     ]
    },
    {
     "name": "stdout",
     "output_type": "stream",
     "text": [
      "<class '__main__.skl_regr_wrap.<locals>.MyEstimator'> fitted with randomseed: 88\n",
      "iter: 89\n",
      "<class '__main__.skl_regr_wrap.<locals>.MyEstimator'> fitted with randomseed: 89\n",
      "<class '__main__.skl_regr_wrap.<locals>.MyEstimator'> fitted with randomseed: 89\n"
     ]
    },
    {
     "name": "stderr",
     "output_type": "stream",
     "text": [
      "c:\\Users\\Gavriil\\anaconda3\\Lib\\site-packages\\sklearn\\metrics\\_regression.py:492: FutureWarning: 'squared' is deprecated in version 1.4 and will be removed in 1.6. To calculate the root mean squared error, use the function'root_mean_squared_error'.\n",
      "  warnings.warn(\n"
     ]
    },
    {
     "name": "stdout",
     "output_type": "stream",
     "text": [
      "<class '__main__.skl_regr_wrap.<locals>.MyEstimator'> fitted with randomseed: 89\n",
      "iter: 90\n",
      "<class '__main__.skl_regr_wrap.<locals>.MyEstimator'> fitted with randomseed: 90\n",
      "<class '__main__.skl_regr_wrap.<locals>.MyEstimator'> fitted with randomseed: 90\n"
     ]
    },
    {
     "name": "stderr",
     "output_type": "stream",
     "text": [
      "c:\\Users\\Gavriil\\anaconda3\\Lib\\site-packages\\sklearn\\metrics\\_regression.py:492: FutureWarning: 'squared' is deprecated in version 1.4 and will be removed in 1.6. To calculate the root mean squared error, use the function'root_mean_squared_error'.\n",
      "  warnings.warn(\n"
     ]
    },
    {
     "name": "stdout",
     "output_type": "stream",
     "text": [
      "<class '__main__.skl_regr_wrap.<locals>.MyEstimator'> fitted with randomseed: 90\n",
      "iter: 91\n",
      "<class '__main__.skl_regr_wrap.<locals>.MyEstimator'> fitted with randomseed: 91\n",
      "<class '__main__.skl_regr_wrap.<locals>.MyEstimator'> fitted with randomseed: 91\n"
     ]
    },
    {
     "name": "stderr",
     "output_type": "stream",
     "text": [
      "c:\\Users\\Gavriil\\anaconda3\\Lib\\site-packages\\sklearn\\metrics\\_regression.py:492: FutureWarning: 'squared' is deprecated in version 1.4 and will be removed in 1.6. To calculate the root mean squared error, use the function'root_mean_squared_error'.\n",
      "  warnings.warn(\n"
     ]
    },
    {
     "name": "stdout",
     "output_type": "stream",
     "text": [
      "<class '__main__.skl_regr_wrap.<locals>.MyEstimator'> fitted with randomseed: 91\n",
      "iter: 92\n",
      "<class '__main__.skl_regr_wrap.<locals>.MyEstimator'> fitted with randomseed: 92\n",
      "<class '__main__.skl_regr_wrap.<locals>.MyEstimator'> fitted with randomseed: 92\n"
     ]
    },
    {
     "name": "stderr",
     "output_type": "stream",
     "text": [
      "c:\\Users\\Gavriil\\anaconda3\\Lib\\site-packages\\sklearn\\metrics\\_regression.py:492: FutureWarning: 'squared' is deprecated in version 1.4 and will be removed in 1.6. To calculate the root mean squared error, use the function'root_mean_squared_error'.\n",
      "  warnings.warn(\n"
     ]
    },
    {
     "name": "stdout",
     "output_type": "stream",
     "text": [
      "<class '__main__.skl_regr_wrap.<locals>.MyEstimator'> fitted with randomseed: 92\n",
      "iter: 93\n",
      "<class '__main__.skl_regr_wrap.<locals>.MyEstimator'> fitted with randomseed: 93\n",
      "<class '__main__.skl_regr_wrap.<locals>.MyEstimator'> fitted with randomseed: 93\n"
     ]
    },
    {
     "name": "stderr",
     "output_type": "stream",
     "text": [
      "c:\\Users\\Gavriil\\anaconda3\\Lib\\site-packages\\sklearn\\metrics\\_regression.py:492: FutureWarning: 'squared' is deprecated in version 1.4 and will be removed in 1.6. To calculate the root mean squared error, use the function'root_mean_squared_error'.\n",
      "  warnings.warn(\n"
     ]
    },
    {
     "name": "stdout",
     "output_type": "stream",
     "text": [
      "<class '__main__.skl_regr_wrap.<locals>.MyEstimator'> fitted with randomseed: 93\n",
      "iter: 94\n",
      "<class '__main__.skl_regr_wrap.<locals>.MyEstimator'> fitted with randomseed: 94\n",
      "<class '__main__.skl_regr_wrap.<locals>.MyEstimator'> fitted with randomseed: 94\n"
     ]
    },
    {
     "name": "stderr",
     "output_type": "stream",
     "text": [
      "c:\\Users\\Gavriil\\anaconda3\\Lib\\site-packages\\sklearn\\metrics\\_regression.py:492: FutureWarning: 'squared' is deprecated in version 1.4 and will be removed in 1.6. To calculate the root mean squared error, use the function'root_mean_squared_error'.\n",
      "  warnings.warn(\n"
     ]
    },
    {
     "name": "stdout",
     "output_type": "stream",
     "text": [
      "<class '__main__.skl_regr_wrap.<locals>.MyEstimator'> fitted with randomseed: 94\n",
      "iter: 95\n",
      "<class '__main__.skl_regr_wrap.<locals>.MyEstimator'> fitted with randomseed: 95\n",
      "<class '__main__.skl_regr_wrap.<locals>.MyEstimator'> fitted with randomseed: 95\n"
     ]
    },
    {
     "name": "stderr",
     "output_type": "stream",
     "text": [
      "c:\\Users\\Gavriil\\anaconda3\\Lib\\site-packages\\sklearn\\metrics\\_regression.py:492: FutureWarning: 'squared' is deprecated in version 1.4 and will be removed in 1.6. To calculate the root mean squared error, use the function'root_mean_squared_error'.\n",
      "  warnings.warn(\n"
     ]
    },
    {
     "name": "stdout",
     "output_type": "stream",
     "text": [
      "<class '__main__.skl_regr_wrap.<locals>.MyEstimator'> fitted with randomseed: 95\n",
      "iter: 96\n",
      "<class '__main__.skl_regr_wrap.<locals>.MyEstimator'> fitted with randomseed: 96\n",
      "<class '__main__.skl_regr_wrap.<locals>.MyEstimator'> fitted with randomseed: 96\n"
     ]
    },
    {
     "name": "stderr",
     "output_type": "stream",
     "text": [
      "c:\\Users\\Gavriil\\anaconda3\\Lib\\site-packages\\sklearn\\metrics\\_regression.py:492: FutureWarning: 'squared' is deprecated in version 1.4 and will be removed in 1.6. To calculate the root mean squared error, use the function'root_mean_squared_error'.\n",
      "  warnings.warn(\n"
     ]
    },
    {
     "name": "stdout",
     "output_type": "stream",
     "text": [
      "<class '__main__.skl_regr_wrap.<locals>.MyEstimator'> fitted with randomseed: 96\n",
      "iter: 97\n",
      "<class '__main__.skl_regr_wrap.<locals>.MyEstimator'> fitted with randomseed: 97\n",
      "<class '__main__.skl_regr_wrap.<locals>.MyEstimator'> fitted with randomseed: 97\n"
     ]
    },
    {
     "name": "stderr",
     "output_type": "stream",
     "text": [
      "c:\\Users\\Gavriil\\anaconda3\\Lib\\site-packages\\sklearn\\metrics\\_regression.py:492: FutureWarning: 'squared' is deprecated in version 1.4 and will be removed in 1.6. To calculate the root mean squared error, use the function'root_mean_squared_error'.\n",
      "  warnings.warn(\n"
     ]
    },
    {
     "name": "stdout",
     "output_type": "stream",
     "text": [
      "<class '__main__.skl_regr_wrap.<locals>.MyEstimator'> fitted with randomseed: 97\n",
      "iter: 98\n",
      "<class '__main__.skl_regr_wrap.<locals>.MyEstimator'> fitted with randomseed: 98\n",
      "<class '__main__.skl_regr_wrap.<locals>.MyEstimator'> fitted with randomseed: 98\n"
     ]
    },
    {
     "name": "stderr",
     "output_type": "stream",
     "text": [
      "c:\\Users\\Gavriil\\anaconda3\\Lib\\site-packages\\sklearn\\metrics\\_regression.py:492: FutureWarning: 'squared' is deprecated in version 1.4 and will be removed in 1.6. To calculate the root mean squared error, use the function'root_mean_squared_error'.\n",
      "  warnings.warn(\n"
     ]
    },
    {
     "name": "stdout",
     "output_type": "stream",
     "text": [
      "<class '__main__.skl_regr_wrap.<locals>.MyEstimator'> fitted with randomseed: 98\n",
      "iter: 99\n",
      "<class '__main__.skl_regr_wrap.<locals>.MyEstimator'> fitted with randomseed: 99\n",
      "<class '__main__.skl_regr_wrap.<locals>.MyEstimator'> fitted with randomseed: 99\n"
     ]
    },
    {
     "name": "stderr",
     "output_type": "stream",
     "text": [
      "c:\\Users\\Gavriil\\anaconda3\\Lib\\site-packages\\sklearn\\metrics\\_regression.py:492: FutureWarning: 'squared' is deprecated in version 1.4 and will be removed in 1.6. To calculate the root mean squared error, use the function'root_mean_squared_error'.\n",
      "  warnings.warn(\n"
     ]
    },
    {
     "name": "stdout",
     "output_type": "stream",
     "text": [
      "<class '__main__.skl_regr_wrap.<locals>.MyEstimator'> fitted with randomseed: 99\n",
      "iter: 100\n",
      "<class '__main__.skl_regr_wrap.<locals>.MyEstimator'> fitted with randomseed: 100\n",
      "<class '__main__.skl_regr_wrap.<locals>.MyEstimator'> fitted with randomseed: 100\n"
     ]
    },
    {
     "name": "stderr",
     "output_type": "stream",
     "text": [
      "c:\\Users\\Gavriil\\anaconda3\\Lib\\site-packages\\sklearn\\metrics\\_regression.py:492: FutureWarning: 'squared' is deprecated in version 1.4 and will be removed in 1.6. To calculate the root mean squared error, use the function'root_mean_squared_error'.\n",
      "  warnings.warn(\n"
     ]
    },
    {
     "name": "stdout",
     "output_type": "stream",
     "text": [
      "<class '__main__.skl_regr_wrap.<locals>.MyEstimator'> fitted with randomseed: 100\n",
      "-------\n",
      "--- Processing M_GMDH\n",
      "iter: 1\n",
      "<class '__main__.skl_regr_wrap.<locals>.MyEstimator'> fitted with randomseed: 1\n",
      "<class '__main__.skl_regr_wrap.<locals>.MyEstimator'> fitted with randomseed: 1\n"
     ]
    },
    {
     "name": "stderr",
     "output_type": "stream",
     "text": [
      "c:\\Users\\Gavriil\\anaconda3\\Lib\\site-packages\\sklearn\\metrics\\_regression.py:492: FutureWarning: 'squared' is deprecated in version 1.4 and will be removed in 1.6. To calculate the root mean squared error, use the function'root_mean_squared_error'.\n",
      "  warnings.warn(\n"
     ]
    },
    {
     "name": "stdout",
     "output_type": "stream",
     "text": [
      "<class '__main__.skl_regr_wrap.<locals>.MyEstimator'> fitted with randomseed: 1\n",
      "iter: 2\n",
      "<class '__main__.skl_regr_wrap.<locals>.MyEstimator'> fitted with randomseed: 2\n",
      "<class '__main__.skl_regr_wrap.<locals>.MyEstimator'> fitted with randomseed: 2\n"
     ]
    },
    {
     "name": "stderr",
     "output_type": "stream",
     "text": [
      "c:\\Users\\Gavriil\\anaconda3\\Lib\\site-packages\\sklearn\\metrics\\_regression.py:492: FutureWarning: 'squared' is deprecated in version 1.4 and will be removed in 1.6. To calculate the root mean squared error, use the function'root_mean_squared_error'.\n",
      "  warnings.warn(\n"
     ]
    },
    {
     "name": "stdout",
     "output_type": "stream",
     "text": [
      "<class '__main__.skl_regr_wrap.<locals>.MyEstimator'> fitted with randomseed: 2\n",
      "iter: 3\n",
      "<class '__main__.skl_regr_wrap.<locals>.MyEstimator'> fitted with randomseed: 3\n",
      "<class '__main__.skl_regr_wrap.<locals>.MyEstimator'> fitted with randomseed: 3\n"
     ]
    },
    {
     "name": "stderr",
     "output_type": "stream",
     "text": [
      "c:\\Users\\Gavriil\\anaconda3\\Lib\\site-packages\\sklearn\\metrics\\_regression.py:492: FutureWarning: 'squared' is deprecated in version 1.4 and will be removed in 1.6. To calculate the root mean squared error, use the function'root_mean_squared_error'.\n",
      "  warnings.warn(\n"
     ]
    },
    {
     "name": "stdout",
     "output_type": "stream",
     "text": [
      "<class '__main__.skl_regr_wrap.<locals>.MyEstimator'> fitted with randomseed: 3\n",
      "iter: 4\n",
      "<class '__main__.skl_regr_wrap.<locals>.MyEstimator'> fitted with randomseed: 4\n",
      "<class '__main__.skl_regr_wrap.<locals>.MyEstimator'> fitted with randomseed: 4\n"
     ]
    },
    {
     "name": "stderr",
     "output_type": "stream",
     "text": [
      "c:\\Users\\Gavriil\\anaconda3\\Lib\\site-packages\\sklearn\\metrics\\_regression.py:492: FutureWarning: 'squared' is deprecated in version 1.4 and will be removed in 1.6. To calculate the root mean squared error, use the function'root_mean_squared_error'.\n",
      "  warnings.warn(\n"
     ]
    },
    {
     "name": "stdout",
     "output_type": "stream",
     "text": [
      "<class '__main__.skl_regr_wrap.<locals>.MyEstimator'> fitted with randomseed: 4\n",
      "iter: 5\n",
      "<class '__main__.skl_regr_wrap.<locals>.MyEstimator'> fitted with randomseed: 5\n",
      "<class '__main__.skl_regr_wrap.<locals>.MyEstimator'> fitted with randomseed: 5\n"
     ]
    },
    {
     "name": "stderr",
     "output_type": "stream",
     "text": [
      "c:\\Users\\Gavriil\\anaconda3\\Lib\\site-packages\\sklearn\\metrics\\_regression.py:492: FutureWarning: 'squared' is deprecated in version 1.4 and will be removed in 1.6. To calculate the root mean squared error, use the function'root_mean_squared_error'.\n",
      "  warnings.warn(\n"
     ]
    },
    {
     "name": "stdout",
     "output_type": "stream",
     "text": [
      "<class '__main__.skl_regr_wrap.<locals>.MyEstimator'> fitted with randomseed: 5\n",
      "iter: 6\n",
      "<class '__main__.skl_regr_wrap.<locals>.MyEstimator'> fitted with randomseed: 6\n",
      "<class '__main__.skl_regr_wrap.<locals>.MyEstimator'> fitted with randomseed: 6\n"
     ]
    },
    {
     "ename": "KeyboardInterrupt",
     "evalue": "",
     "output_type": "error",
     "traceback": [
      "\u001b[1;31m---------------------------------------------------------------------------\u001b[0m",
      "\u001b[1;31mKeyboardInterrupt\u001b[0m                         Traceback (most recent call last)",
      "Cell \u001b[1;32mIn[56], line 1\u001b[0m\n\u001b[1;32m----> 1\u001b[0m full_df_1 \u001b[38;5;241m=\u001b[39m multi_exp(l_algos_names\u001b[38;5;241m=\u001b[39ml_algos_names,\n\u001b[0;32m      2\u001b[0m                     l_algos\u001b[38;5;241m=\u001b[39ml_algos,\n\u001b[0;32m      3\u001b[0m                     mult_data\u001b[38;5;241m=\u001b[39mmult_data,\n\u001b[0;32m      4\u001b[0m                     l_geophysical_method\u001b[38;5;241m=\u001b[39ml_geophysical_method,\n\u001b[0;32m      5\u001b[0m                     l_output_parameter\u001b[38;5;241m=\u001b[39ml_output_parameter,\n\u001b[0;32m      6\u001b[0m                     l_kwargs\u001b[38;5;241m=\u001b[39ml_kwargs,\n\u001b[0;32m      7\u001b[0m                     l_metrics_names\u001b[38;5;241m=\u001b[39ml_metrics_names,\n\u001b[0;32m      8\u001b[0m                     num_iter\u001b[38;5;241m=\u001b[39mnum_iter)\n",
      "File \u001b[1;32mc:\\Users\\Gavriil\\VS_projects\\ARCHIVE_git\\KAN_geo\\algos.py:743\u001b[0m, in \u001b[0;36mmulti_exp\u001b[1;34m(l_algos_names, l_algos, mult_data, l_geophysical_method, l_output_parameter, l_kwargs, l_metrics_names, num_iter)\u001b[0m\n\u001b[0;32m    741\u001b[0m     \u001b[38;5;28mprint\u001b[39m(\u001b[38;5;124mf\u001b[39m\u001b[38;5;124m'\u001b[39m\u001b[38;5;124miter: \u001b[39m\u001b[38;5;132;01m{\u001b[39;00mi\u001b[38;5;132;01m}\u001b[39;00m\u001b[38;5;124m'\u001b[39m)\n\u001b[0;32m    742\u001b[0m     \u001b[38;5;66;03m#print(kwargs)\u001b[39;00m\n\u001b[1;32m--> 743\u001b[0m     l_metrics \u001b[38;5;241m=\u001b[39m alg(trn, val, test, geophysical_method, output_parameter, randomseed\u001b[38;5;241m=\u001b[39mi, \u001b[38;5;241m*\u001b[39m\u001b[38;5;241m*\u001b[39mkwargs)\n\u001b[0;32m    744\u001b[0m     res_list\u001b[38;5;241m.\u001b[39mappend([alg_name, i]\u001b[38;5;241m+\u001b[39ml_metrics)\n\u001b[0;32m    745\u001b[0m \u001b[38;5;28mprint\u001b[39m(\u001b[38;5;124m'\u001b[39m\u001b[38;5;124m-------\u001b[39m\u001b[38;5;124m'\u001b[39m)\n",
      "File \u001b[1;32mc:\\Users\\Gavriil\\VS_projects\\ARCHIVE_git\\KAN_geo\\algos.py:703\u001b[0m, in \u001b[0;36mvector_pred_skl\u001b[1;34m(trn_data, vld_data, tst_data, geophysical_method, l_output_parameter, randomseed, class_model, model_kwargs)\u001b[0m\n\u001b[0;32m    699\u001b[0m _X_tst, _Y_tst \u001b[38;5;241m=\u001b[39m create_XY_data(_tst_data, output_parameter, _geophysical_method, \u001b[38;5;124m'\u001b[39m\u001b[38;5;124mall\u001b[39m\u001b[38;5;124m'\u001b[39m)\n\u001b[0;32m    701\u001b[0m model \u001b[38;5;241m=\u001b[39m class_model(random_state\u001b[38;5;241m=\u001b[39mrandomseed, \n\u001b[0;32m    702\u001b[0m                     \u001b[38;5;241m*\u001b[39m\u001b[38;5;241m*\u001b[39mmodel_kwargs)\n\u001b[1;32m--> 703\u001b[0m model\u001b[38;5;241m.\u001b[39mfit(_X_trn_vld, _Y_trn_vld)\n\u001b[0;32m    704\u001b[0m \u001b[38;5;28mprint\u001b[39m(\u001b[38;5;124mf\u001b[39m\u001b[38;5;124m'\u001b[39m\u001b[38;5;132;01m{\u001b[39;00mclass_model\u001b[38;5;132;01m}\u001b[39;00m\u001b[38;5;124m fitted with randomseed: \u001b[39m\u001b[38;5;132;01m{\u001b[39;00mrandomseed\u001b[38;5;132;01m}\u001b[39;00m\u001b[38;5;124m'\u001b[39m)\n\u001b[0;32m    706\u001b[0m _Y_pred \u001b[38;5;241m=\u001b[39m model\u001b[38;5;241m.\u001b[39mpredict(_X_tst)\u001b[38;5;241m.\u001b[39mreshape(\u001b[38;5;241m-\u001b[39m\u001b[38;5;241m1\u001b[39m, \u001b[38;5;241m1\u001b[39m)\n",
      "Cell \u001b[1;32mIn[50], line 20\u001b[0m, in \u001b[0;36mskl_regr_wrap.<locals>.MyEstimator.fit\u001b[1;34m(self, X, y)\u001b[0m\n\u001b[0;32m     18\u001b[0m \u001b[38;5;28;01mdef\u001b[39;00m \u001b[38;5;21mfit\u001b[39m(\u001b[38;5;28mself\u001b[39m, X, y):\n\u001b[0;32m     19\u001b[0m     \u001b[38;5;28mself\u001b[39m\u001b[38;5;241m.\u001b[39mmodel \u001b[38;5;241m=\u001b[39m class_model(\u001b[38;5;241m*\u001b[39m\u001b[38;5;241m*\u001b[39m\u001b[38;5;28mself\u001b[39m\u001b[38;5;241m.\u001b[39minit_kwargs)\n\u001b[1;32m---> 20\u001b[0m     \u001b[38;5;28mself\u001b[39m\u001b[38;5;241m.\u001b[39mmodel\u001b[38;5;241m.\u001b[39mfit(X\u001b[38;5;241m=\u001b[39mnp\u001b[38;5;241m.\u001b[39marray(X), y\u001b[38;5;241m=\u001b[39mnp\u001b[38;5;241m.\u001b[39marray(y), \u001b[38;5;241m*\u001b[39m\u001b[38;5;241m*\u001b[39m\u001b[38;5;28mself\u001b[39m\u001b[38;5;241m.\u001b[39mfit_kwargs)\n\u001b[0;32m     21\u001b[0m     \u001b[38;5;28mself\u001b[39m\u001b[38;5;241m.\u001b[39mis_fitted_ \u001b[38;5;241m=\u001b[39m \u001b[38;5;28;01mTrue\u001b[39;00m\n\u001b[0;32m     22\u001b[0m     \u001b[38;5;28;01mreturn\u001b[39;00m \u001b[38;5;28mself\u001b[39m\n",
      "\u001b[1;31mKeyboardInterrupt\u001b[0m: "
     ]
    }
   ],
   "source": [
    "full_df_1 = multi_exp(l_algos_names=l_algos_names,\n",
    "                    l_algos=l_algos,\n",
    "                    mult_data=mult_data,\n",
    "                    l_geophysical_method=l_geophysical_method,\n",
    "                    l_output_parameter=l_output_parameter,\n",
    "                    l_kwargs=l_kwargs,\n",
    "                    l_metrics_names=l_metrics_names,\n",
    "                    num_iter=num_iter)"
   ]
  },
  {
   "cell_type": "code",
   "execution_count": null,
   "metadata": {},
   "outputs": [],
   "source": [
    "full_df_1"
   ]
  },
  {
   "cell_type": "code",
   "execution_count": null,
   "metadata": {},
   "outputs": [],
   "source": [
    "full_df_1.to_excel('full_metrics_1_gmdh.xlsx')\n",
    "#pd.read_excel('full_metrics.xlsx').drop('Unnamed: 0', axis=1)"
   ]
  },
  {
   "cell_type": "code",
   "execution_count": null,
   "metadata": {},
   "outputs": [],
   "source": [
    "aggr_df_1 = full_df_1.groupby(['alg_name']).agg([\"mean\", \"std\"]).drop(['iter'], axis=1)\n",
    "aggr_df_1.to_excel('aggr_metrics_1_gmdh.xlsx')\n",
    "aggr_df_1"
   ]
  }
 ],
 "metadata": {
  "colab": {
   "collapsed_sections": [
    "aIL8ByjQk_ZF",
    "QDmrIUSXGi4S",
    "a1xagv6ilIOY",
    "bPtIL2sBHGEr",
    "1F9IQv4404Kw",
    "RL9cZZgsCOF9",
    "SQlkq4mV2jgV",
    "rELgNsuCH-AV",
    "4anop-oMi1bP",
    "u7XdyWo2i9If",
    "q7AyylqGjDds",
    "ASErdt8-koM6",
    "gbynJqCmjDd0",
    "4nKC2GYXjDd3",
    "GTLSE0LqjDd5",
    "LniYe2gKmQU2",
    "JBY35tb-mQVF",
    "LbxePh8_mQVG",
    "sGQL1KcYmQVI",
    "Jv2nOQcDmbx4",
    "mwSMdb-DmbyA",
    "POfYqvJpmbyC",
    "mzulZ0BqmbyE",
    "b2bsNptimnn6",
    "i2kYaUXymnoA",
    "BW6pjojBmnoC",
    "f5ZNCOjImnoE",
    "P-G0m7YHmxjI",
    "STRJXlr5mxjP",
    "YK6-DC1SmxjR",
    "x0mZIr5WmxjT",
    "A_cb4zfCm8e0",
    "LAHjNKyum8e6",
    "r3V68FCLm8e7",
    "5qkzGmPBm8e9",
    "_emLc38km8e_",
    "mBkbRM6um8fB",
    "l2AfJl0Bm8fB",
    "1JvB5Vpnm8fD",
    "VnZLOfnwm8fE",
    "3Smu7Z1fm8fG",
    "ZQdqa0mzm8fG",
    "00bDDaU8m8fI",
    "wo3QxFQPm8fK",
    "LuF8EP2Qm8fM",
    "KXI9Qgpvm8fM",
    "K_rzuvZEm8fP",
    "K9skQHETm8fR",
    "p2s49zpnm8fT",
    "wrtDVW9jm8fT",
    "mtbjCRB1m8fY"
   ],
   "provenance": []
  },
  "kernelspec": {
   "display_name": "base",
   "language": "python",
   "name": "python3"
  },
  "language_info": {
   "codemirror_mode": {
    "name": "ipython",
    "version": 3
   },
   "file_extension": ".py",
   "mimetype": "text/x-python",
   "name": "python",
   "nbconvert_exporter": "python",
   "pygments_lexer": "ipython3",
   "version": "3.11.5"
  }
 },
 "nbformat": 4,
 "nbformat_minor": 1
}
